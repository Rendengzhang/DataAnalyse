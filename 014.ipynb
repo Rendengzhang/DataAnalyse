{
 "cells": [
  {
   "cell_type": "code",
   "execution_count": 1,
   "metadata": {},
   "outputs": [],
   "source": [
    "# -*- coding:utf-8 -*-\n",
    "from __future__ import division\n",
    "import os,sys\n",
    "\n",
    "%matplotlib inline\n",
    "import matplotlib.pyplot as plt\n",
    "\n",
    "import pandas as pd\n",
    "import numpy as np"
   ]
  },
  {
   "cell_type": "code",
   "execution_count": 3,
   "metadata": {},
   "outputs": [],
   "source": [
    "import pandas as pd\n",
    "from sqlalchemy import create_engine\n",
    "\n",
    "engine=create_engine('mysql+pymysql://root:@127.0.0.1:3306/law?charset=utf8')\n",
    "sql=pd.read_sql('all_gzdata',engine,chunksize=10000)"
   ]
  },
  {
   "cell_type": "code",
   "execution_count": 5,
   "metadata": {},
   "outputs": [
    {
     "name": "stdout",
     "output_type": "stream",
     "text": [
      "101001       1500\n",
      "101002       2190\n",
      "101003     101841\n",
      "101004         35\n",
      "101005         15\n",
      "101006         24\n",
      "101007         39\n",
      "101008        107\n",
      "101009        246\n",
      "102001        454\n",
      "102002       4012\n",
      "102003        287\n",
      "102004         61\n",
      "102005         73\n",
      "102006         50\n",
      "102007        157\n",
      "102008         75\n",
      "102009         39\n",
      "103002         83\n",
      "103003        543\n",
      "106001       1199\n",
      "107001      49359\n",
      "1999001     53807\n",
      "301001       4693\n",
      "Name: fullURLId, dtype: int64\n"
     ]
    }
   ],
   "source": [
    "counts=[i['fullURLId'].value_counts() for i in sql]\n",
    "counts=pd.concat(counts).groupby(level=0).sum()\n",
    "print(counts)"
   ]
  },
  {
   "cell_type": "code",
   "execution_count": 7,
   "metadata": {},
   "outputs": [
    {
     "name": "stdout",
     "output_type": "stream",
     "text": [
      "      index     num\n",
      "0    101001    1500\n",
      "1    101002    2190\n",
      "2    101003  101841\n",
      "3    101004      35\n",
      "4    101005      15\n",
      "5    101006      24\n",
      "6    101007      39\n",
      "7    101008     107\n",
      "8    101009     246\n",
      "9    102001     454\n",
      "10   102002    4012\n",
      "11   102003     287\n",
      "12   102004      61\n",
      "13   102005      73\n",
      "14   102006      50\n",
      "15   102007     157\n",
      "16   102008      75\n",
      "17   102009      39\n",
      "18   103002      83\n",
      "19   103003     543\n",
      "20   106001    1199\n",
      "21   107001   49359\n",
      "22  1999001   53807\n",
      "23   301001    4693\n",
      "    index     num type\n",
      "0  101001    1500  101\n",
      "1  101002    2190  101\n",
      "2  101003  101841  101\n",
      "3  101004      35  101\n",
      "4  101005      15  101\n",
      "         num\n",
      "type        \n",
      "101   105997\n",
      "102     5208\n",
      "103      626\n",
      "106     1199\n",
      "107    49359\n",
      "199    53807\n",
      "301     4693\n",
      "220889\n"
     ]
    }
   ],
   "source": [
    "counts=counts.reset_index()\n",
    "counts.columns=['index','num']\n",
    "print(counts)\n",
    "counts['type']=counts['index'].str.extract('(\\d{3})',expand=True)\n",
    "print(counts.head())\n",
    "counts_=counts[['type','num']].groupby('type').sum()\n",
    "print(counts_)\n",
    "counts_.sort_values(by='num',ascending=False)\n",
    "print(counts_['num'].sum())"
   ]
  },
  {
   "cell_type": "code",
   "execution_count": 8,
   "metadata": {
    "scrolled": true
   },
   "outputs": [
    {
     "name": "stdout",
     "output_type": "stream",
     "text": [
      "    index     num type\n",
      "0  101001    1500  101\n",
      "1  101002    2190  101\n",
      "2  101003  101841  101\n",
      "3  101004      35  101\n",
      "4  101005      15  101\n",
      "         num\n",
      "type        \n",
      "101   105997\n",
      "102     5208\n",
      "103      626\n",
      "106     1199\n",
      "107    49359\n"
     ]
    }
   ],
   "source": [
    "print(counts.head())\n",
    "print(counts_.head())"
   ]
  },
  {
   "cell_type": "code",
   "execution_count": 13,
   "metadata": {},
   "outputs": [],
   "source": [
    "def count107(i):\n",
    "    j=i[['fullURL']][i['fullURLId'].str.contains('107')].copy()\n",
    "    j['type']=None\n",
    "    j['type'][j['fullURL'].str.contains('info/.+?/')]=u'知识首页'\n",
    "    j['type'][j['fullURL'].str.contains('info/.+?/.+?')]=u'知识列表页'\n",
    "    j['type'][j['fullURL'].str.contains('/\\d+?_*\\d+?\\.html')]=u'知识内容页'\n",
    "    return j['type'].value_counts()"
   ]
  },
  {
   "cell_type": "code",
   "execution_count": 15,
   "metadata": {},
   "outputs": [
    {
     "name": "stdout",
     "output_type": "stream",
     "text": [
      "知识内容页    46808\n",
      "知识列表页     2584\n",
      "知识首页      2265\n",
      "Name: type, dtype: int64\n"
     ]
    }
   ],
   "source": [
    "import pandas as pd\n",
    "from sqlalchemy import create_engine\n",
    "\n",
    "engine=create_engine('mysql+pymysql://root:@127.0.0.1:3306/law?charset=utf8')\n",
    "sql=pd.read_sql('all_gzdata',engine,chunksize=10000)\n",
    "\n",
    "counts2=[count107(i) for i in sql]\n",
    "counts2=pd.concat(counts2).groupby(level=0).sum()\n",
    "print(counts2)"
   ]
  },
  {
   "cell_type": "code",
   "execution_count": 17,
   "metadata": {},
   "outputs": [
    {
     "name": "stdout",
     "output_type": "stream",
     "text": [
      "77526\n",
      "230889\n"
     ]
    },
    {
     "data": {
      "text/html": [
       "<div>\n",
       "<style scoped>\n",
       "    .dataframe tbody tr th:only-of-type {\n",
       "        vertical-align: middle;\n",
       "    }\n",
       "\n",
       "    .dataframe tbody tr th {\n",
       "        vertical-align: top;\n",
       "    }\n",
       "\n",
       "    .dataframe thead th {\n",
       "        text-align: right;\n",
       "    }\n",
       "</style>\n",
       "<table border=\"1\" class=\"dataframe\">\n",
       "  <thead>\n",
       "    <tr style=\"text-align: right;\">\n",
       "      <th></th>\n",
       "      <th>1</th>\n",
       "    </tr>\n",
       "    <tr>\n",
       "      <th>realIP</th>\n",
       "      <th></th>\n",
       "    </tr>\n",
       "  </thead>\n",
       "  <tbody>\n",
       "    <tr>\n",
       "      <th>1</th>\n",
       "      <td>48201</td>\n",
       "    </tr>\n",
       "    <tr>\n",
       "      <th>2</th>\n",
       "      <td>14334</td>\n",
       "    </tr>\n",
       "    <tr>\n",
       "      <th>3</th>\n",
       "      <td>5175</td>\n",
       "    </tr>\n",
       "    <tr>\n",
       "      <th>4</th>\n",
       "      <td>2872</td>\n",
       "    </tr>\n",
       "    <tr>\n",
       "      <th>5</th>\n",
       "      <td>1641</td>\n",
       "    </tr>\n",
       "  </tbody>\n",
       "</table>\n",
       "</div>"
      ],
      "text/plain": [
       "            1\n",
       "realIP       \n",
       "1       48201\n",
       "2       14334\n",
       "3        5175\n",
       "4        2872\n",
       "5        1641"
      ]
     },
     "execution_count": 17,
     "metadata": {},
     "output_type": "execute_result"
    }
   ],
   "source": [
    "import pandas as pd \n",
    "from sqlalchemy import create_engine\n",
    "engine=create_engine('mysql+pymysql://root:@127.0.0.1:3306/law?charset=utf8')\n",
    "sql=pd.read_sql('all_gzdata',engine,chunksize=10000)\n",
    "\n",
    "c=[i['realIP'].value_counts() for i in sql]\n",
    "counts3=pd.concat(c).groupby(level=0).sum()\n",
    "counts3=pd.DataFrame(counts3)\n",
    "print(len(counts3))\n",
    "print(counts3['realIP'].sum())\n",
    "counts3[1]=1\n",
    "counts3.groupby('realIP').sum()\n",
    "\n",
    "c3_=counts3.groupby('realIP').sum()\n",
    "c3_.head()"
   ]
  },
  {
   "cell_type": "code",
   "execution_count": 20,
   "metadata": {},
   "outputs": [
    {
     "name": "stderr",
     "output_type": "stream",
     "text": [
      "F:\\Anaconda\\anaconda3\\lib\\site-packages\\pymysql\\cursors.py:170: Warning: (1366, \"Incorrect string value: '\\\\xE9\\\\xAA\\\\x9E\\\\xE5\\\\xAD\\\\x98...' for column 'fullURL' at row 7678\")\n",
      "  result = self._query(query)\n"
     ]
    }
   ],
   "source": [
    "import pandas as pd\n",
    "from sqlalchemy import create_engine\n",
    "engine=create_engine('mysql+pymysql://root:@127.0.0.1:3306/law?charset=utf8')\n",
    "sql=pd.read_sql('all_gzdata',engine,chunksize=10000)\n",
    "\n",
    "for i in sql:\n",
    "    d=i[['realIP','fullURL']]\n",
    "    d=d[d['fullURL'].str.contains('\\.html')].copy()\n",
    "    d.to_sql('cleaned_gzdata',engine,index=False,if_exists='append')\n",
    "    "
   ]
  },
  {
   "cell_type": "code",
   "execution_count": 21,
   "metadata": {},
   "outputs": [],
   "source": [
    "import pandas as pd\n",
    "from sqlalchemy import create_engine\n",
    "\n",
    "engine=create_engine('mysql+pymysql://root:@127.0.0.1:3306/law?charset=utf8')\n",
    "sql=pd.read_sql('cleaned_gzdata',engine,chunksize=10000)\n",
    "for i in sql:\n",
    "    d=i.copy()\n",
    "    d['fullURL']=d['fullURL'].str.replace('_\\d{0,2}.html','.html')\n",
    "    d=d.drop_duplicates()\n",
    "    d.to_sql('changed_gzdata',engine,index=False,if_exists='append')\n",
    "    "
   ]
  },
  {
   "cell_type": "code",
   "execution_count": 22,
   "metadata": {},
   "outputs": [
    {
     "name": "stderr",
     "output_type": "stream",
     "text": [
      "F:\\Anaconda\\anaconda3\\lib\\site-packages\\ipykernel_launcher.py:10: UserWarning: This pattern has match groups. To actually get the groups, use str.extract.\n",
      "  # Remove the CWD from sys.path while we load stuff.\n",
      "F:\\Anaconda\\anaconda3\\lib\\site-packages\\ipykernel_launcher.py:10: SettingWithCopyWarning: \n",
      "A value is trying to be set on a copy of a slice from a DataFrame\n",
      "\n",
      "See the caveats in the documentation: http://pandas.pydata.org/pandas-docs/stable/indexing.html#indexing-view-versus-copy\n",
      "  # Remove the CWD from sys.path while we load stuff.\n"
     ]
    }
   ],
   "source": [
    "import pandas as pd\n",
    "from sqlalchemy import create_engine\n",
    "\n",
    "engine=create_engine('mysql+pymysql://root:@127.0.0.1:3306/law?charset=utf8')\n",
    "sql=pd.read_sql('cleaned_gzdata',engine,chunksize=10000)\n",
    "\n",
    "for i in sql:\n",
    "    d=i.copy()\n",
    "    d['type_1']=d['fullURL']\n",
    "    d['type_1'][d['fullURL'].str.contains('(ask)|(askzt)')]='zixun'\n",
    "    d.to_sql('splited_gzdata',engine,index=False,if_exists='append')"
   ]
  },
  {
   "cell_type": "code",
   "execution_count": null,
   "metadata": {},
   "outputs": [],
   "source": []
  },
  {
   "cell_type": "code",
   "execution_count": 23,
   "metadata": {},
   "outputs": [],
   "source": [
    "import numpy as np\n",
    "from numpy import linalg as la\n",
    "\n",
    "def ecludSim(a,b):\n",
    "    return 1.0/(1.0+la.norm(a-b))\n",
    "\n",
    "def pearsSim(a,b):\n",
    "    if len(a)<3:return 1.0\n",
    "    return 0.5+0.5*corrcoef(a,b,rowvar=0)[0][1]\n",
    "\n",
    "def consSim(a,b):\n",
    "    num=float(a.T*b)\n",
    "    denum=la.norm(a)*la.norm(b)\n",
    "    return 0.5+0.5*(num/denum)\n",
    "\n",
    "def Jaccard(a,b):\n",
    "    return 1.0*(a*b).sum()/(a+b-a*b).sum()"
   ]
  },
  {
   "cell_type": "code",
   "execution_count": null,
   "metadata": {},
   "outputs": [],
   "source": []
  },
  {
   "cell_type": "code",
   "execution_count": null,
   "metadata": {},
   "outputs": [],
   "source": []
  },
  {
   "cell_type": "code",
   "execution_count": null,
   "metadata": {},
   "outputs": [],
   "source": []
  },
  {
   "cell_type": "code",
   "execution_count": null,
   "metadata": {},
   "outputs": [],
   "source": []
  },
  {
   "cell_type": "code",
   "execution_count": null,
   "metadata": {},
   "outputs": [],
   "source": []
  },
  {
   "cell_type": "code",
   "execution_count": null,
   "metadata": {},
   "outputs": [],
   "source": []
  },
  {
   "cell_type": "code",
   "execution_count": null,
   "metadata": {},
   "outputs": [],
   "source": []
  },
  {
   "cell_type": "code",
   "execution_count": null,
   "metadata": {},
   "outputs": [],
   "source": []
  },
  {
   "cell_type": "code",
   "execution_count": null,
   "metadata": {},
   "outputs": [],
   "source": []
  },
  {
   "cell_type": "code",
   "execution_count": null,
   "metadata": {},
   "outputs": [],
   "source": []
  },
  {
   "cell_type": "code",
   "execution_count": null,
   "metadata": {},
   "outputs": [],
   "source": []
  },
  {
   "cell_type": "code",
   "execution_count": null,
   "metadata": {},
   "outputs": [],
   "source": []
  },
  {
   "cell_type": "code",
   "execution_count": null,
   "metadata": {},
   "outputs": [],
   "source": []
  },
  {
   "cell_type": "code",
   "execution_count": null,
   "metadata": {},
   "outputs": [],
   "source": []
  },
  {
   "cell_type": "code",
   "execution_count": null,
   "metadata": {},
   "outputs": [],
   "source": []
  },
  {
   "cell_type": "code",
   "execution_count": null,
   "metadata": {},
   "outputs": [],
   "source": []
  },
  {
   "cell_type": "code",
   "execution_count": null,
   "metadata": {},
   "outputs": [],
   "source": []
  },
  {
   "cell_type": "code",
   "execution_count": null,
   "metadata": {},
   "outputs": [],
   "source": []
  },
  {
   "cell_type": "code",
   "execution_count": null,
   "metadata": {},
   "outputs": [],
   "source": []
  },
  {
   "cell_type": "code",
   "execution_count": null,
   "metadata": {},
   "outputs": [],
   "source": []
  },
  {
   "cell_type": "code",
   "execution_count": null,
   "metadata": {},
   "outputs": [],
   "source": []
  },
  {
   "cell_type": "code",
   "execution_count": null,
   "metadata": {},
   "outputs": [],
   "source": []
  },
  {
   "cell_type": "code",
   "execution_count": null,
   "metadata": {},
   "outputs": [],
   "source": []
  },
  {
   "cell_type": "code",
   "execution_count": null,
   "metadata": {},
   "outputs": [],
   "source": []
  },
  {
   "cell_type": "code",
   "execution_count": null,
   "metadata": {},
   "outputs": [],
   "source": []
  },
  {
   "cell_type": "code",
   "execution_count": null,
   "metadata": {},
   "outputs": [],
   "source": []
  },
  {
   "cell_type": "code",
   "execution_count": null,
   "metadata": {},
   "outputs": [],
   "source": []
  },
  {
   "cell_type": "code",
   "execution_count": null,
   "metadata": {},
   "outputs": [],
   "source": []
  },
  {
   "cell_type": "code",
   "execution_count": null,
   "metadata": {},
   "outputs": [],
   "source": []
  },
  {
   "cell_type": "code",
   "execution_count": null,
   "metadata": {},
   "outputs": [],
   "source": []
  },
  {
   "cell_type": "code",
   "execution_count": null,
   "metadata": {},
   "outputs": [],
   "source": []
  },
  {
   "cell_type": "code",
   "execution_count": null,
   "metadata": {},
   "outputs": [],
   "source": []
  },
  {
   "cell_type": "code",
   "execution_count": null,
   "metadata": {},
   "outputs": [],
   "source": []
  },
  {
   "cell_type": "code",
   "execution_count": null,
   "metadata": {},
   "outputs": [],
   "source": []
  },
  {
   "cell_type": "code",
   "execution_count": null,
   "metadata": {},
   "outputs": [],
   "source": []
  },
  {
   "cell_type": "code",
   "execution_count": null,
   "metadata": {},
   "outputs": [],
   "source": []
  },
  {
   "cell_type": "code",
   "execution_count": null,
   "metadata": {},
   "outputs": [],
   "source": []
  },
  {
   "cell_type": "code",
   "execution_count": null,
   "metadata": {},
   "outputs": [],
   "source": []
  },
  {
   "cell_type": "code",
   "execution_count": null,
   "metadata": {},
   "outputs": [],
   "source": []
  },
  {
   "cell_type": "code",
   "execution_count": null,
   "metadata": {},
   "outputs": [],
   "source": []
  },
  {
   "cell_type": "code",
   "execution_count": null,
   "metadata": {},
   "outputs": [],
   "source": []
  }
 ],
 "metadata": {
  "kernelspec": {
   "display_name": "Python 3",
   "language": "python",
   "name": "python3"
  },
  "language_info": {
   "codemirror_mode": {
    "name": "ipython",
    "version": 3
   },
   "file_extension": ".py",
   "mimetype": "text/x-python",
   "name": "python",
   "nbconvert_exporter": "python",
   "pygments_lexer": "ipython3",
   "version": "3.5.6"
  }
 },
 "nbformat": 4,
 "nbformat_minor": 2
}
