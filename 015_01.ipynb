{
 "cells": [
  {
   "cell_type": "code",
   "execution_count": 1,
   "metadata": {},
   "outputs": [],
   "source": [
    "#-*- coding:utf-8 -*-\n",
    "from __future__ import division\n",
    "import os,sys\n",
    "%matplotlib inline\n",
    "import matplotlib.pyplot as plt\n",
    "\n",
    "import numpy as np\n",
    "import pandas as pd"
   ]
  },
  {
   "cell_type": "code",
   "execution_count": 2,
   "metadata": {},
   "outputs": [],
   "source": [
    "import warnings\n",
    "warnings.filterwarnings('ignore')"
   ]
  },
  {
   "cell_type": "code",
   "execution_count": 5,
   "metadata": {},
   "outputs": [],
   "source": [
    "inputfile='data15/huizong.csv'\n",
    "outputfile='data15/meidi_jd.txt'\n",
    "data=pd.read_csv(inputfile,encoding='utf-8')\n",
    "data=data[['评论']][data['品牌']=='美的']\n",
    "data.to_csv(outputfile,index=False,header=False,encoding='utf-8')"
   ]
  },
  {
   "cell_type": "code",
   "execution_count": 6,
   "metadata": {},
   "outputs": [
    {
     "name": "stdout",
     "output_type": "stream",
     "text": [
      "55774\n",
      "                                    评论\n",
      "95898         京东商城信得过，买的放心，用的省心、安心、放心！\n",
      "95899  给公司宿舍买的，上门安装很快，快递也送的及时，不错的。给五分吧\n",
      "95900                      美的值得信赖，质量不错\n",
      "95901         不错不错的哦，第一次在京东买这些产品，感觉相当好\n",
      "95902            很满意，水方一晚上都还是热的早上还能再洗，\n",
      "                                                     评论\n",
      "151667                             还没用使用，感觉很不错。送货师傅人很好，\n",
      "151668   就是美的安装人员安都没安完  混水阀没安 跟我说 原配那个太丑了 建议自己去买个新的 好看的\n",
      "151669  用的不错挺好的。安装师傅也很好。提醒亲们，自己提前预约品牌客服安装，京东不管！省得耽误一天时间\n",
      "151670                                     东西是送朋友的 说挺好的\n",
      "151671                                     价格便宜 不错 是正品！\n"
     ]
    }
   ],
   "source": [
    "print(len(data))\n",
    "print(data.head())\n",
    "print(data.tail())"
   ]
  },
  {
   "cell_type": "code",
   "execution_count": 7,
   "metadata": {},
   "outputs": [
    {
     "name": "stdout",
     "output_type": "stream",
     "text": [
      "一般一般一般一般一般一般一般一般一般一般一般一般一般一般一般一般一般一般一般一般一般一般一般一般 \n",
      "\n",
      "1.11111E+32 \n",
      "\n",
      "本人2014年8月3日购买的热水器，送货很快8月4日中午及送达，送货人员告诉我24小时内安装务必留人，于是8月5日我家留人等候安装，24小时内也就是说8月5日上午就可以安装完成，但安装人员迟迟没有来，直到给售后打电话确认才被通知，送货当天要打电话通知安装。如果不是送货人员告诉我们24小时内安装务必留人，我能不通知售后来安装吗？居然倒打一耙。下午5点安装人员到来，宣称必须要安装在卫生间才行，可我家卫生间有限一直是安装在厨房的，且之前2台热水器都在厨房，现在却被通知安装在厕所，理由是热水器可能会爆炸，爆炸后水无处排放流到楼下，概不负责。我只想问你美的热水器爆炸隐患够高啊，我现在都想退货了。而且所有零配件都得用你们美的的，我的都是不好的，你们就为了挣这点钱吧，欺负我们消费者愚昧吧。装我家厨房墙上有孔不用打，你们不满意，因为这样你们少挣钱了，用我准备的东西你们不满意，因为你们也少挣钱了，你们的美的的服务就这么次吗？希望你们可以给个说法，本人客观评价，随时等候你们联系 \n",
      "\n",
      "还没安装！！！！！！！！！！！ \n",
      "\n"
     ]
    }
   ],
   "source": [
    "print(data.iloc[55430][0],'\\n')\n",
    "print(data.iloc[55370][0],'\\n')\n",
    "print(data.iloc[55357][0],'\\n')\n",
    "print(data.iloc[55584][0],'\\n')"
   ]
  },
  {
   "cell_type": "code",
   "execution_count": 8,
   "metadata": {},
   "outputs": [
    {
     "name": "stdout",
     "output_type": "stream",
     "text": [
      "原始数据55400条评论，现在剩余53048条评论\n",
      "删除了2352条评论。\n"
     ]
    }
   ],
   "source": [
    "#去重处理\n",
    "inputfile='data15/meidi_jd.txt'\n",
    "outputfile='data15/meidi_jd_process_1.txt'\n",
    "data=pd.read_csv(inputfile,encoding='utf-8',header=None)\n",
    "l1=len(data)\n",
    "data=pd.DataFrame(data[0].unique())\n",
    "l2=len(data)\n",
    "data.to_csv(outputfile,index=False,header=False,encoding='utf-8')\n",
    "print('原始数据%s条评论，现在剩余%s条评论'%(l1,l2))\n",
    "print('删除了%s条评论。'%(l1-l2))"
   ]
  },
  {
   "cell_type": "code",
   "execution_count": 3,
   "metadata": {},
   "outputs": [
    {
     "name": "stdout",
     "output_type": "stream",
     "text": [
      "希望你们可以给个说法，本人客观评价，随时等候你们联系 0.2899221963751485\n"
     ]
    }
   ],
   "source": [
    "from snownlp import SnowNLP\n",
    "s=u'希望你们可以给个说法，本人客观评价，随时等候你们联系'\n",
    "print(s,SnowNLP(s).sentiments)"
   ]
  },
  {
   "cell_type": "code",
   "execution_count": 4,
   "metadata": {},
   "outputs": [
    {
     "name": "stdout",
     "output_type": "stream",
     "text": [
      "用时355.79秒\n"
     ]
    }
   ],
   "source": [
    "import csv,codecs\n",
    "from snownlp import SnowNLP\n",
    "\n",
    "import time\n",
    "start=time.time()\n",
    "\n",
    "inputfile='data15/meidi_jd_process_end.txt'\n",
    "outputfile_pos='data15/meidi_jd_pos_1.txt'\n",
    "outputfile_neg='data15/meidi_jd_neg_1.txt'\n",
    "\n",
    "outf_pos=codecs.open(outputfile_pos,'wb',encoding='utf-8')\n",
    "outf_neg=codecs.open(outputfile_neg,'wb',encoding='utf-8')\n",
    "\n",
    "with codecs.open(inputfile,'r',encoding='utf-8') as inf:\n",
    "    for line in inf:\n",
    "        if not line.strip():\n",
    "            continue\n",
    "        sentscore=round((SnowNLP(line.strip()).sentiments-0.5)*20)\n",
    "        if sentscore>0.0:\n",
    "            outf_pos.write(str(sentscore)+'\\t'+line.strip()+'\\n')\n",
    "        elif sentscore<0.0:\n",
    "            outf_neg.write(str(sentscore)+'\\t'+line.strip()+'\\n')\n",
    "            \n",
    "outf_pos.close()\n",
    "outf_neg.close()\n",
    "end=time.time()\n",
    "print('用时%4.2f秒'%(end-start))"
   ]
  },
  {
   "cell_type": "code",
   "execution_count": 7,
   "metadata": {},
   "outputs": [
    {
     "name": "stdout",
     "output_type": "stream",
     "text": [
      "负面评论有5441条\n",
      "正面评论有39424条\n",
      "过程用时2.87秒\n"
     ]
    }
   ],
   "source": [
    "#去除机器标注的情感类标\n",
    "import csv,codecs\n",
    "from snownlp import SnowNLP\n",
    "import time\n",
    "start = time.time()\n",
    "inputfile1 = 'data15/meidi_jd_process_end_neg.txt'\n",
    "inputfile2='data15/meidi_jd_process_end_pos.txt'\n",
    "outputfile1='data15/meidi_jd_neg_2.txt'\n",
    "outputfile2='data15/meidi_jd_pos_2.txt'\n",
    "\n",
    "data1=pd.read_csv(inputfile1,encoding='utf-8',header=None)\n",
    "data2=pd.read_csv(inputfile2,encoding='utf-8',header=None)\n",
    "\n",
    "data1=pd.DataFrame(data1[0].str.replace('.*?\\d+?\\\\t',''))\n",
    "data2=pd.DataFrame(data2[0].str.replace('.*?\\d+?\\\\t',''))\n",
    "\n",
    "data1.to_csv(outputfile1,index=False,header=False,encoding='utf-8')\n",
    "data2.to_csv(outputfile2,index=False,header=False,encoding='utf-8')\n",
    "\n",
    "l1=len(data1)\n",
    "l2=len(data2)\n",
    "print('负面评论有%s条'%(l1))\n",
    "print('正面评论有%s条'%(l2))\n",
    "\n",
    "end=time.time()\n",
    "print('过程用时%4.2f秒'%(end-start))"
   ]
  },
  {
   "cell_type": "code",
   "execution_count": 4,
   "metadata": {},
   "outputs": [
    {
     "name": "stdout",
     "output_type": "stream",
     "text": [
      "这个 东西 真心 很赞\n"
     ]
    }
   ],
   "source": [
    "import jieba\n",
    "s='这个东西真心很赞'\n",
    "seg_words=jieba.cut_for_search(s)\n",
    "print(' '.join(seg_words))"
   ]
  },
  {
   "cell_type": "code",
   "execution_count": 5,
   "metadata": {},
   "outputs": [
    {
     "name": "stdout",
     "output_type": "stream",
     "text": [
      "过程用时8.86秒\n"
     ]
    }
   ],
   "source": [
    "import time\n",
    "start =time.time()\n",
    "inputfile1='data15/meidi_jd_pos.txt'\n",
    "inputfile2='data15/meidi_jd_neg.txt'\n",
    "\n",
    "outputfile1='data15/meidi_jd_pos_cut_1.txt'\n",
    "outputfile2='data15/meidi_jd_neg_cut_1.txt'\n",
    "\n",
    "data1=pd.read_csv(inputfile1,encoding='utf-8',header=None)\n",
    "data2=pd.read_csv(inputfile2,encoding='utf-8',header=None)\n",
    "\n",
    "myseg=lambda s: ' '.join(jieba.cut(s))\n",
    "data1=data1[0].apply(myseg)\n",
    "data2=data2[0].apply(myseg)\n",
    "\n",
    "data1.to_csv(outputfile1,index=False,header=False,encoding='utf-8')\n",
    "data2.to_csv(outputfile2,index=False,header=False,encoding='utf-8')\n",
    "\n",
    "end=time.time()\n",
    "print('过程用时%4.2f秒'%(end-start))"
   ]
  },
  {
   "cell_type": "code",
   "execution_count": 8,
   "metadata": {},
   "outputs": [
    {
     "name": "stdout",
     "output_type": "stream",
     "text": [
      "过程用时112.33秒\n"
     ]
    }
   ],
   "source": [
    "import time\n",
    "start = time.time()\n",
    "negfile='data15/meidi_jd_neg_cut.txt'\n",
    "posfile='data15/meidi_jd_pos_cut.txt'\n",
    "stoplist='data15/stoplist.txt'\n",
    "\n",
    "neg=pd.read_csv(negfile,encoding='utf-8',header=None,engine='python')\n",
    "pos=pd.read_csv(posfile,encoding='utf-8',header=None,engine='python')\n",
    "stop=pd.read_csv(stoplist,encoding='utf-8',header=None,engine='python',sep='tipdm')\n",
    "\n",
    "stop=[' ','']+list(stop[0])\n",
    "\n",
    "neg[1]=neg[0].apply(lambda s: s.split('.'))\n",
    "neg[2]=neg[1].apply(lambda x: [i for i in x if i not in stop])\n",
    "pos[1]=pos[0].apply(lambda s: s.split(' '))\n",
    "pos[2]=pos[1].apply(lambda x:[i for i in x if i not in stop])\n",
    "\n",
    "from gensim import corpora,models\n",
    "\n",
    "neg_dict=corpora.Dictionary(neg[2])\n",
    "neg_corpus=[neg_dict.doc2bow(i) for i in neg[2]]\n",
    "neg_lda=models.LdaModel(neg_corpus,num_topics=3,id2word=neg_dict)\n",
    "\n",
    "pos_dict=corpora.Dictionary(pos[2])\n",
    "pos_corpus=[pos_dict.doc2bow(i) for i in pos[2]]\n",
    "pos_lda=models.LdaModel(pos_corpus,num_topics=3,id2word=pos_dict)\n",
    "\n",
    "end=time.time()\n",
    "print('过程用时%4.2f秒'%(end-start))"
   ]
  },
  {
   "cell_type": "code",
   "execution_count": 11,
   "metadata": {},
   "outputs": [
    {
     "name": "stdout",
     "output_type": "stream",
     "text": [
      "Topic 1:\t 0.039*\"师傅\" + 0.032*\"送货\" + 0.025*\"加热\" + 0.025*\"挺\" + 0.018*\"服务\" + 0.015*\"便宜\" + 0.014*\"有点\" + 0.013*\"n\" + 0.013*\"售后\" + 0.012*\"方便\" \n",
      "\n",
      "Topic 2:\t 0.135*\"好\" + 0.133*\"不错\" + 0.119*\"安装\" + 0.048*\"买\" + 0.041*\"热水器\" + 0.036*\"美的\" + 0.025*\"京东\" + 0.019*\"质量\" + 0.018*\"一个\" + 0.016*\"高\" \n",
      "\n",
      "Topic 3:\t 0.031*\"东西\" + 0.025*\"很快\" + 0.023*\"使用\" + 0.019*\"感觉\" + 0.017*\"价格\" + 0.015*\"安装费\" + 0.015*\"满意\" + 0.014*\"值得\" + 0.013*\"性价比\" + 0.011*\"实用\" \n",
      "\n",
      "Topic 1:\t 0.116*\"安装\" + 0.052*\"买\" + 0.049*\"热水器\" + 0.040*\"好\" + 0.022*\"知道\" + 0.022*\"京东\" + 0.021*\"东西\" + 0.017*\"安装费\" + 0.016*\"有点\" + 0.015*\"使用\" \n",
      "\n",
      "Topic 2:\t 0.049*\"不错\" + 0.028*\"加热\" + 0.027*\"美的\" + 0.015*\"送货\" + 0.015*\"一个\" + 0.012*\"花\" + 0.011*\"挺\" + 0.010*\"速度\" + 0.010*\"服务\" + 0.009*\"方便\" \n",
      "\n",
      "Topic 3:\t 0.033*\"师傅\" + 0.019*\"问题\" + 0.012*\"售后\" + 0.010*\"价格\" + 0.010*\"上门\" + 0.009*\"感觉\" + 0.008*\"便宜\" + 0.008*\"客服\" + 0.008*\"材料\" + 0.008*\"评价\" \n",
      "\n"
     ]
    }
   ],
   "source": [
    "import csv,codecs\n",
    "from snownlp import SnowNLP\n",
    "LDA_outnegf='data15/meidi_jd_neg_LDA_result.txt'\n",
    "outf_neg=codecs.open(LDA_outnegf,'wb',encoding='utf-8')\n",
    "LDA_outposf='data15/meidi_jd_pos_LDA_result.txt'\n",
    "outf_pos=codecs.open(LDA_outposf,'wb',encoding='utf-8')\n",
    "\n",
    "for i in range(3):\n",
    "    outf_neg.write('Topic %d:\\n'%(i+1))\n",
    "    temp=neg_lda.print_topic(i)\n",
    "    print('Topic %d:\\t'%(i+1),temp,'\\n')\n",
    "    tp=temp.split('+')\n",
    "    for j in tp:\n",
    "        a=j.split('*')\n",
    "        score=a[0].strip()\n",
    "        word=a[1].strip()\n",
    "        outf_neg.write(word+'\\t'+score+'\\n')\n",
    "    outf_neg.write('\\n')\n",
    "    \n",
    "for i in range(3):\n",
    "    outf_pos.write('Topic %d:\\n'%(i+1))\n",
    "    temp=pos_lda.print_topic(i)\n",
    "    print('Topic %d:\\t'%(i+1),temp,'\\n')\n",
    "    tp=temp.split('+')\n",
    "    for j in tp:\n",
    "        a=j.split('*')\n",
    "        score=a[0].strip()\n",
    "        word=a[1].strip('\\\"')\n",
    "        outf_pos.write(word+'\\t'+score+'\\n')\n",
    "    outf_pos.write('\\n')\n",
    "    \n",
    "outf_neg.close()\n",
    "outf_pos.close()"
   ]
  },
  {
   "cell_type": "code",
   "execution_count": null,
   "metadata": {},
   "outputs": [],
   "source": []
  },
  {
   "cell_type": "code",
   "execution_count": null,
   "metadata": {},
   "outputs": [],
   "source": []
  },
  {
   "cell_type": "code",
   "execution_count": null,
   "metadata": {},
   "outputs": [],
   "source": []
  },
  {
   "cell_type": "code",
   "execution_count": null,
   "metadata": {},
   "outputs": [],
   "source": []
  },
  {
   "cell_type": "code",
   "execution_count": null,
   "metadata": {},
   "outputs": [],
   "source": []
  },
  {
   "cell_type": "code",
   "execution_count": null,
   "metadata": {},
   "outputs": [],
   "source": []
  },
  {
   "cell_type": "code",
   "execution_count": null,
   "metadata": {},
   "outputs": [],
   "source": []
  },
  {
   "cell_type": "code",
   "execution_count": null,
   "metadata": {},
   "outputs": [],
   "source": []
  },
  {
   "cell_type": "code",
   "execution_count": null,
   "metadata": {},
   "outputs": [],
   "source": []
  },
  {
   "cell_type": "code",
   "execution_count": null,
   "metadata": {},
   "outputs": [],
   "source": []
  },
  {
   "cell_type": "code",
   "execution_count": null,
   "metadata": {},
   "outputs": [],
   "source": []
  },
  {
   "cell_type": "code",
   "execution_count": null,
   "metadata": {},
   "outputs": [],
   "source": []
  },
  {
   "cell_type": "code",
   "execution_count": null,
   "metadata": {},
   "outputs": [],
   "source": []
  },
  {
   "cell_type": "code",
   "execution_count": null,
   "metadata": {},
   "outputs": [],
   "source": []
  },
  {
   "cell_type": "code",
   "execution_count": null,
   "metadata": {},
   "outputs": [],
   "source": []
  },
  {
   "cell_type": "code",
   "execution_count": null,
   "metadata": {},
   "outputs": [],
   "source": []
  },
  {
   "cell_type": "code",
   "execution_count": null,
   "metadata": {},
   "outputs": [],
   "source": []
  },
  {
   "cell_type": "code",
   "execution_count": null,
   "metadata": {},
   "outputs": [],
   "source": []
  },
  {
   "cell_type": "code",
   "execution_count": null,
   "metadata": {},
   "outputs": [],
   "source": []
  },
  {
   "cell_type": "code",
   "execution_count": null,
   "metadata": {},
   "outputs": [],
   "source": []
  },
  {
   "cell_type": "code",
   "execution_count": null,
   "metadata": {},
   "outputs": [],
   "source": []
  },
  {
   "cell_type": "code",
   "execution_count": null,
   "metadata": {},
   "outputs": [],
   "source": []
  },
  {
   "cell_type": "code",
   "execution_count": null,
   "metadata": {},
   "outputs": [],
   "source": []
  },
  {
   "cell_type": "code",
   "execution_count": null,
   "metadata": {},
   "outputs": [],
   "source": []
  },
  {
   "cell_type": "code",
   "execution_count": null,
   "metadata": {},
   "outputs": [],
   "source": []
  },
  {
   "cell_type": "code",
   "execution_count": null,
   "metadata": {},
   "outputs": [],
   "source": []
  },
  {
   "cell_type": "code",
   "execution_count": null,
   "metadata": {},
   "outputs": [],
   "source": []
  },
  {
   "cell_type": "code",
   "execution_count": null,
   "metadata": {},
   "outputs": [],
   "source": []
  },
  {
   "cell_type": "code",
   "execution_count": null,
   "metadata": {},
   "outputs": [],
   "source": []
  },
  {
   "cell_type": "code",
   "execution_count": null,
   "metadata": {},
   "outputs": [],
   "source": []
  },
  {
   "cell_type": "code",
   "execution_count": null,
   "metadata": {},
   "outputs": [],
   "source": []
  },
  {
   "cell_type": "code",
   "execution_count": null,
   "metadata": {},
   "outputs": [],
   "source": []
  },
  {
   "cell_type": "code",
   "execution_count": null,
   "metadata": {},
   "outputs": [],
   "source": []
  },
  {
   "cell_type": "code",
   "execution_count": null,
   "metadata": {},
   "outputs": [],
   "source": []
  },
  {
   "cell_type": "code",
   "execution_count": null,
   "metadata": {},
   "outputs": [],
   "source": []
  },
  {
   "cell_type": "code",
   "execution_count": null,
   "metadata": {},
   "outputs": [],
   "source": []
  },
  {
   "cell_type": "code",
   "execution_count": null,
   "metadata": {},
   "outputs": [],
   "source": []
  },
  {
   "cell_type": "code",
   "execution_count": null,
   "metadata": {},
   "outputs": [],
   "source": []
  },
  {
   "cell_type": "code",
   "execution_count": null,
   "metadata": {},
   "outputs": [],
   "source": []
  },
  {
   "cell_type": "code",
   "execution_count": null,
   "metadata": {},
   "outputs": [],
   "source": []
  }
 ],
 "metadata": {
  "kernelspec": {
   "display_name": "Python 3",
   "language": "python",
   "name": "python3"
  },
  "language_info": {
   "codemirror_mode": {
    "name": "ipython",
    "version": 3
   },
   "file_extension": ".py",
   "mimetype": "text/x-python",
   "name": "python",
   "nbconvert_exporter": "python",
   "pygments_lexer": "ipython3",
   "version": "3.5.6"
  }
 },
 "nbformat": 4,
 "nbformat_minor": 2
}
