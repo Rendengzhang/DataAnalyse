{
 "cells": [
  {
   "cell_type": "code",
   "execution_count": 1,
   "metadata": {},
   "outputs": [
    {
     "data": {
      "text/plain": [
       "10"
      ]
     },
     "execution_count": 1,
     "metadata": {},
     "output_type": "execute_result"
    }
   ],
   "source": [
    "a=10\n",
    "a"
   ]
  },
  {
   "cell_type": "code",
   "execution_count": 2,
   "metadata": {
    "scrolled": true
   },
   "outputs": [
    {
     "name": "stdout",
     "output_type": "stream",
     "text": [
      "showing info https://raw.githubusercontent.com/nltk/nltk_data/gh-pages/index.xml\n"
     ]
    },
    {
     "data": {
      "text/plain": [
       "[Synset('channel.n.01'),\n",
       " Synset('channel.n.02'),\n",
       " Synset('groove.n.01'),\n",
       " Synset('channel.n.04'),\n",
       " Synset('channel.n.05'),\n",
       " Synset('duct.n.01'),\n",
       " Synset('channel.n.07'),\n",
       " Synset('distribution_channel.n.01'),\n",
       " Synset('impart.v.03'),\n",
       " Synset('channel.v.02'),\n",
       " Synset('transmit.v.04')]"
      ]
     },
     "execution_count": 2,
     "metadata": {},
     "output_type": "execute_result"
    }
   ],
   "source": [
    "import nltk\n",
    "nltk.download()\n",
    "from nltk.corpus import wordnet\n",
    "#获得一个词的所有sense，包括词语的各种变形的sense;\n",
    "wordnet.synsets('channel')"
   ]
  },
  {
   "cell_type": "code",
   "execution_count": 7,
   "metadata": {},
   "outputs": [
    {
     "data": {
      "text/plain": [
       "[Synset('impart.v.03'), Synset('channel.v.02'), Synset('transmit.v.04')]"
      ]
     },
     "execution_count": 7,
     "metadata": {},
     "output_type": "execute_result"
    }
   ],
   "source": [
    "wordnet.synsets('channel',pos=wordnet.VERB)"
   ]
  },
  {
   "cell_type": "code",
   "execution_count": 9,
   "metadata": {},
   "outputs": [
    {
     "name": "stdout",
     "output_type": "stream",
     "text": [
      "a path over which electrical signals can pass\n"
     ]
    }
   ],
   "source": [
    "print (wordnet.synset('channel.n.01').definition())"
   ]
  },
  {
   "cell_type": "code",
   "execution_count": 10,
   "metadata": {},
   "outputs": [
    {
     "name": "stdout",
     "output_type": "stream",
     "text": [
      "[Lemma('channel.n.01.channel'), Lemma('channel.n.01.transmission_channel')]\n"
     ]
    }
   ],
   "source": [
    "print(wordnet.synset('channel.n.01').lemmas())"
   ]
  },
  {
   "cell_type": "code",
   "execution_count": 11,
   "metadata": {},
   "outputs": [
    {
     "name": "stdout",
     "output_type": "stream",
     "text": [
      "['channel', 'transmission_channel']\n"
     ]
    }
   ],
   "source": [
    "print(wordnet.synset('channel.n.01').lemma_names())"
   ]
  },
  {
   "cell_type": "code",
   "execution_count": 12,
   "metadata": {},
   "outputs": [
    {
     "name": "stdout",
     "output_type": "stream",
     "text": [
      "Synset('channel.n.01')\n"
     ]
    }
   ],
   "source": [
    "print(wordnet.lemma('channel.n.01.channel').synset())"
   ]
  },
  {
   "cell_type": "code",
   "execution_count": 13,
   "metadata": {},
   "outputs": [
    {
     "name": "stdout",
     "output_type": "stream",
     "text": [
      "channel\n"
     ]
    }
   ],
   "source": [
    "print(wordnet.lemma('channel.n.01.channel').name())"
   ]
  },
  {
   "cell_type": "code",
   "execution_count": 14,
   "metadata": {},
   "outputs": [
    {
     "name": "stdout",
     "output_type": "stream",
     "text": [
      "11\n"
     ]
    }
   ],
   "source": [
    "x=wordnet.synsets('girl')[-1]\n",
    "y=wordnet.synsets('woman')[-1]\n",
    "print(x.shortest_path_distance(y))"
   ]
  },
  {
   "cell_type": "code",
   "execution_count": 18,
   "metadata": {},
   "outputs": [
    {
     "data": {
      "text/plain": [
       "[Synset('bright.s.06'),\n",
       " Synset('celebrated.s.02'),\n",
       " Synset('divine.s.06'),\n",
       " Synset('empyreal.s.02'),\n",
       " Synset('illustrious.s.02'),\n",
       " Synset('incandescent.s.02'),\n",
       " Synset('lustrous.s.02')]"
      ]
     },
     "execution_count": 18,
     "metadata": {},
     "output_type": "execute_result"
    }
   ],
   "source": [
    "a=wordnet.synsets('glorious')[0]\n",
    "a.similar_tos()"
   ]
  },
  {
   "cell_type": "code",
   "execution_count": 19,
   "metadata": {},
   "outputs": [
    {
     "data": {
      "text/plain": [
       "[('A', 'DT'),\n",
       " ('man', 'NN'),\n",
       " ('struct', 'NN'),\n",
       " ('my', 'PRP$'),\n",
       " ('video', 'NN'),\n",
       " ('camera', 'NN'),\n",
       " ('with', 'IN'),\n",
       " ('a', 'DT'),\n",
       " ('hammer', 'NN')]"
      ]
     },
     "execution_count": 19,
     "metadata": {},
     "output_type": "execute_result"
    }
   ],
   "source": [
    "text=nltk.word_tokenize(\"A man struct my video camera with a hammer\")\n",
    "nltk.pos_tag(text)"
   ]
  },
  {
   "cell_type": "code",
   "execution_count": null,
   "metadata": {},
   "outputs": [],
   "source": []
  }
 ],
 "metadata": {
  "kernelspec": {
   "display_name": "Python 3",
   "language": "python",
   "name": "python3"
  },
  "language_info": {
   "codemirror_mode": {
    "name": "ipython",
    "version": 3
   },
   "file_extension": ".py",
   "mimetype": "text/x-python",
   "name": "python",
   "nbconvert_exporter": "python",
   "pygments_lexer": "ipython3",
   "version": "3.5.6"
  }
 },
 "nbformat": 4,
 "nbformat_minor": 2
}
