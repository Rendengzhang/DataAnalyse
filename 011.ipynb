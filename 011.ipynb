{
 "cells": [
  {
   "cell_type": "code",
   "execution_count": 12,
   "metadata": {},
   "outputs": [],
   "source": [
    "from __future__ import division\n",
    "import os,sys\n",
    "\n",
    "%matplotlib inline\n",
    "import matplotlib.pyplot as plt\n",
    "\n",
    "import pandas as pd\n",
    "import numpy as np\n",
    "import matplotlib.pyplot as plt\n",
    "\n",
    "from PIL import Image,ImageDraw\n",
    "import codecs\n",
    "import csv"
   ]
  },
  {
   "cell_type": "code",
   "execution_count": 13,
   "metadata": {},
   "outputs": [],
   "source": [
    "import warnings\n",
    "warnings.filterwarnings('ignore')"
   ]
  },
  {
   "cell_type": "code",
   "execution_count": null,
   "metadata": {},
   "outputs": [],
   "source": [
    "from PIL import Image,ImageDraw"
   ]
  },
  {
   "cell_type": "code",
   "execution_count": 16,
   "metadata": {},
   "outputs": [],
   "source": [
    "class DataSeg():\n",
    "    def __init__(self):\n",
    "        \n",
    "        self.data_path='data11/images'\n",
    "        self.image_names=os.listdir(self.data_path)\n",
    "        \n",
    "        self.location_data_path='data11/seglocation_images'\n",
    "        \n",
    "        if not os.path.isdir(self.location_data_path):\n",
    "            os.makedirs(self.location_data_path)\n",
    "        self.seg_data_path='data11/seg_images'\n",
    "        if not os.path.isdir(self.seg_data_path):\n",
    "            os.makedirs(self.seg_data_path)\n",
    "        \n",
    "    def seg(self):\n",
    "        for image_name in self.image_names:\n",
    "            img=Image.open(self.data_path+'/'+image_name)\n",
    "            loc_img=Image.open(self.data_path+'/'+image_name)\n",
    "            weight,height=img.size\n",
    "            \n",
    "            left=(weight/2)-50\n",
    "            right=(weight/2)+51\n",
    "            upper=(height/2)-50\n",
    "            lower=(height/2)+51\n",
    "            \n",
    "            draw=ImageDraw.Draw(loc_img)\n",
    "            draw.line([(left,upper),(left,lower)],fill=(255,0,0),width=5)\n",
    "            draw.line([(left,upper),(right,upper)],fill=(255,0,0),width=5)\n",
    "            draw.line([(right,lower),(left,lower)],fill=(255,0,0),width=5)\n",
    "            draw.line([(right,lower),(right,upper)],fill=(255,0,0),width=5)\n",
    "            \n",
    "            loc_img.save(self.location_data_path+'/'+image_name)\n",
    "            \n",
    "            box=[left,upper,right,lower]\n",
    "            seg_img=img.crop(box)\n",
    "            \n",
    "            seg_img.save(self.seg_data_path+'/'+image_name)\n",
    "        \n",
    "            "
   ]
  },
  {
   "cell_type": "code",
   "execution_count": 18,
   "metadata": {},
   "outputs": [
    {
     "name": "stdout",
     "output_type": "stream",
     "text": [
      "用时68.97秒\n"
     ]
    }
   ],
   "source": [
    "import time\n",
    "start=time.time()\n",
    "\n",
    "data=DataSeg()\n",
    "data.seg()\n",
    "end=time.time()\n",
    "print('用时%4.2f秒'%(end-start))"
   ]
  },
  {
   "cell_type": "code",
   "execution_count": 31,
   "metadata": {},
   "outputs": [],
   "source": [
    "class DataMoment():\n",
    "    def __init__(self):\n",
    "        self.seg_data_path='data11/seg_images'\n",
    "        self.segimage_names=os.listdir(self.seg_data_path)\n",
    "        self.segimage_names.sort()\n",
    "    def moment(self):\n",
    "        color_features=[]\n",
    "        str=['类别','序号',\n",
    "             'R通道一阶矩','G通道一阶矩','B通道一阶矩',\n",
    "            'R通道二阶矩','G通道二阶矩','B通道二阶矩',\n",
    "            'R通道三阶矩','G通道三阶矩','B通道三阶矩']\n",
    "        color_features.append(str)\n",
    "        \n",
    "        for image_name in self.segimage_names:\n",
    "            color_feature=[]\n",
    "            image_name_list=image_name.split('.')[0].split('_')\n",
    "            color_feature.extend(image_name_list)\n",
    "            img=Image.open(self.seg_data_path+'/'+image_name)\n",
    "            \n",
    "            r,g,b=img.split()\n",
    "            r=np.array(r)/255.0\n",
    "            g=np.array(g)/255.0\n",
    "            b=np.array(b)/255.0\n",
    "            \n",
    "            r_mean=np.mean(r)\n",
    "            g_mean=np.mean(g)\n",
    "            b_meam=np.mean(b)\n",
    "            color_feature.extend([round(r_mean,9),round(g_mean,9),round(b_meam,9)])\n",
    "            \n",
    "            r_std=np.std(r)\n",
    "            g_std=np.std(g)\n",
    "            b_std=np.std(b)\n",
    "            color_feature.extend([round(r_std,9),round(g_std,9),round(b_std,9)])\n",
    "            \n",
    "            r_skewness=np.mean((r-r_mean)**3)\n",
    "            g_skewness=np.mean((g-g_mean)**3)\n",
    "            b_skewness=np.mean((b-b_meam)**3)\n",
    "            \n",
    "            r_thirdMoment=np.cbrt(r_skewness)\n",
    "            g_thirdMoment=np.cbrt(g_skewness)\n",
    "            b_thirdMoment=np.cbrt(b_skewness)\n",
    "            \n",
    "            color_feature.extend([round(r_thirdMoment,9),round(g_thirdMoment,9),round(b_thirdMoment,9)])\n",
    "            color_features.append(color_feature)\n",
    "        return color_features"
   ]
  },
  {
   "cell_type": "code",
   "execution_count": 32,
   "metadata": {
    "scrolled": true
   },
   "outputs": [],
   "source": [
    "data=DataMoment()\n",
    "feature=data.moment()\n",
    "outfile='data11/moment_2.csv'\n",
    "with open(outfile,'w',newline='',encoding='utf-8') as out:\n",
    "    csv_writer=csv.writer(out,dialect='excel')\n",
    "    for f in feature:\n",
    "        csv_writer.writerow(f)"
   ]
  },
  {
   "cell_type": "code",
   "execution_count": 40,
   "metadata": {},
   "outputs": [
    {
     "data": {
      "text/html": [
       "<div>\n",
       "<style scoped>\n",
       "    .dataframe tbody tr th:only-of-type {\n",
       "        vertical-align: middle;\n",
       "    }\n",
       "\n",
       "    .dataframe tbody tr th {\n",
       "        vertical-align: top;\n",
       "    }\n",
       "\n",
       "    .dataframe thead th {\n",
       "        text-align: right;\n",
       "    }\n",
       "</style>\n",
       "<table border=\"1\" class=\"dataframe\">\n",
       "  <thead>\n",
       "    <tr style=\"text-align: right;\">\n",
       "      <th></th>\n",
       "      <th>类别</th>\n",
       "      <th>序号</th>\n",
       "      <th>R通道一阶矩</th>\n",
       "      <th>G通道一阶矩</th>\n",
       "      <th>B通道一阶矩</th>\n",
       "      <th>R通道二阶矩</th>\n",
       "      <th>G通道二阶矩</th>\n",
       "      <th>B通道二阶矩</th>\n",
       "      <th>R通道三阶矩</th>\n",
       "      <th>G通道三阶矩</th>\n",
       "      <th>B通道三阶矩</th>\n",
       "    </tr>\n",
       "  </thead>\n",
       "  <tbody>\n",
       "    <tr>\n",
       "      <th>0</th>\n",
       "      <td>1</td>\n",
       "      <td>1</td>\n",
       "      <td>0.582823</td>\n",
       "      <td>0.543774</td>\n",
       "      <td>0.252829</td>\n",
       "      <td>0.014192</td>\n",
       "      <td>0.016144</td>\n",
       "      <td>0.041075</td>\n",
       "      <td>-0.012643</td>\n",
       "      <td>-0.016090</td>\n",
       "      <td>-0.041536</td>\n",
       "    </tr>\n",
       "    <tr>\n",
       "      <th>1</th>\n",
       "      <td>1</td>\n",
       "      <td>10</td>\n",
       "      <td>0.641660</td>\n",
       "      <td>0.570657</td>\n",
       "      <td>0.213728</td>\n",
       "      <td>0.015439</td>\n",
       "      <td>0.011178</td>\n",
       "      <td>0.013708</td>\n",
       "      <td>0.009727</td>\n",
       "      <td>-0.003724</td>\n",
       "      <td>-0.003779</td>\n",
       "    </tr>\n",
       "    <tr>\n",
       "      <th>2</th>\n",
       "      <td>1</td>\n",
       "      <td>11</td>\n",
       "      <td>0.603684</td>\n",
       "      <td>0.576719</td>\n",
       "      <td>0.282254</td>\n",
       "      <td>0.008659</td>\n",
       "      <td>0.007075</td>\n",
       "      <td>0.012204</td>\n",
       "      <td>-0.004695</td>\n",
       "      <td>-0.002571</td>\n",
       "      <td>-0.009451</td>\n",
       "    </tr>\n",
       "    <tr>\n",
       "      <th>3</th>\n",
       "      <td>1</td>\n",
       "      <td>12</td>\n",
       "      <td>0.589706</td>\n",
       "      <td>0.593743</td>\n",
       "      <td>0.252242</td>\n",
       "      <td>0.007908</td>\n",
       "      <td>0.005941</td>\n",
       "      <td>0.010568</td>\n",
       "      <td>0.003303</td>\n",
       "      <td>-0.003417</td>\n",
       "      <td>-0.005273</td>\n",
       "    </tr>\n",
       "    <tr>\n",
       "      <th>4</th>\n",
       "      <td>1</td>\n",
       "      <td>13</td>\n",
       "      <td>0.591096</td>\n",
       "      <td>0.592093</td>\n",
       "      <td>0.253595</td>\n",
       "      <td>0.007448</td>\n",
       "      <td>0.006495</td>\n",
       "      <td>0.012152</td>\n",
       "      <td>0.000496</td>\n",
       "      <td>-0.002236</td>\n",
       "      <td>-0.005096</td>\n",
       "    </tr>\n",
       "  </tbody>\n",
       "</table>\n",
       "</div>"
      ],
      "text/plain": [
       "   类别  序号    R通道一阶矩    G通道一阶矩    B通道一阶矩    R通道二阶矩    G通道二阶矩    B通道二阶矩  \\\n",
       "0   1   1  0.582823  0.543774  0.252829  0.014192  0.016144  0.041075   \n",
       "1   1  10  0.641660  0.570657  0.213728  0.015439  0.011178  0.013708   \n",
       "2   1  11  0.603684  0.576719  0.282254  0.008659  0.007075  0.012204   \n",
       "3   1  12  0.589706  0.593743  0.252242  0.007908  0.005941  0.010568   \n",
       "4   1  13  0.591096  0.592093  0.253595  0.007448  0.006495  0.012152   \n",
       "\n",
       "     R通道三阶矩    G通道三阶矩    B通道三阶矩  \n",
       "0 -0.012643 -0.016090 -0.041536  \n",
       "1  0.009727 -0.003724 -0.003779  \n",
       "2 -0.004695 -0.002571 -0.009451  \n",
       "3  0.003303 -0.003417 -0.005273  \n",
       "4  0.000496 -0.002236 -0.005096  "
      ]
     },
     "execution_count": 40,
     "metadata": {},
     "output_type": "execute_result"
    }
   ],
   "source": [
    "#-*- coding: utf-8 -*-\n",
    "import pandas as pd\n",
    "\n",
    "datafile='data11/moment.csv'\n",
    "data=pd.read_csv(datafile,encoding='gbk')\n",
    "data.head()"
   ]
  },
  {
   "cell_type": "code",
   "execution_count": 41,
   "metadata": {},
   "outputs": [
    {
     "data": {
      "text/plain": [
       "count    203.000000\n",
       "mean       0.539564\n",
       "std        0.065795\n",
       "min        0.211567\n",
       "25%        0.501167\n",
       "50%        0.544323\n",
       "75%        0.582458\n",
       "max        0.700704\n",
       "Name: R通道一阶矩, dtype: float64"
      ]
     },
     "execution_count": 41,
     "metadata": {},
     "output_type": "execute_result"
    }
   ],
   "source": [
    "data[u'R通道一阶矩'].describe()"
   ]
  },
  {
   "cell_type": "code",
   "execution_count": 43,
   "metadata": {},
   "outputs": [
    {
     "data": {
      "text/plain": [
       "count    203.000000\n",
       "mean       0.007415\n",
       "std        0.003106\n",
       "min        0.004623\n",
       "25%        0.005715\n",
       "50%        0.006578\n",
       "75%        0.007879\n",
       "max        0.032469\n",
       "Name: G通道二阶矩, dtype: float64"
      ]
     },
     "execution_count": 43,
     "metadata": {},
     "output_type": "execute_result"
    }
   ],
   "source": [
    "data[u'G通道二阶矩'].describe()"
   ]
  },
  {
   "cell_type": "code",
   "execution_count": 45,
   "metadata": {},
   "outputs": [
    {
     "data": {
      "text/plain": [
       "0.8292682926829268"
      ]
     },
     "execution_count": 45,
     "metadata": {},
     "output_type": "execute_result"
    }
   ],
   "source": [
    "#-*- coding:utf-8 -*-\n",
    "import pandas as pd\n",
    "\n",
    "datafile='data11/moment_2.csv'\n",
    "data=pd.read_csv(datafile,encoding='utf-8')\n",
    "data=data.as_matrix()\n",
    "\n",
    "from random import shuffle\n",
    "shuffle(data)\n",
    "\n",
    "data_train=data[:int(0.8*len(data)),:]\n",
    "data_test=data[int(0.8*len(data)):,:]\n",
    "\n",
    "x_train=data_train[:,2:]*30\n",
    "y_train=data_train[:,0].astype(int)\n",
    "x_test=data_test[:,2:]*30\n",
    "y_test=data_test[:,0].astype(int)\n",
    "\n",
    "from sklearn import svm\n",
    "model=svm.SVC()\n",
    "model.fit(x_train,y_train)\n",
    "\n",
    "model.score(x_test,y_test)\n"
   ]
  },
  {
   "cell_type": "code",
   "execution_count": 48,
   "metadata": {},
   "outputs": [
    {
     "data": {
      "text/plain": [
       "0.7804878048780488"
      ]
     },
     "execution_count": 48,
     "metadata": {},
     "output_type": "execute_result"
    }
   ],
   "source": [
    "#-*- coding:utf-8 -*-\n",
    "import pandas as pd\n",
    "\n",
    "datafile='data11/moment_2.csv'\n",
    "data=pd.read_csv(datafile,encoding='utf-8')\n",
    "data2=data[data.columns[2:]]\n",
    "\n",
    "data2=(data2-data2.min(axis=0))/(data2.max(axis=0)-data2.min(axis=0))\n",
    "\n",
    "data1=data[data.columns[0]]\n",
    "data2['Class']=data1\n",
    "data2=data2.as_matrix()\n",
    "\n",
    "shuffle(data2)\n",
    "\n",
    "data_train=data2[:int(0.8*len(data2)),:]\n",
    "data_test=data2[int(0.8*len(data2)):,:]\n",
    "\n",
    "x_train=data_train[:,:9]\n",
    "y_train=data_train[:,9].astype(int)\n",
    "x_test=data_test[:,:9]\n",
    "y_test=data_test[:,9].astype(int)\n",
    "\n",
    "from sklearn import svm\n",
    "model=svm.SVC(C=5.0,kernel='linear')\n",
    "model.fit(x_train,y_train)\n",
    "\n",
    "model.score(x_test,y_test)"
   ]
  },
  {
   "cell_type": "code",
   "execution_count": 49,
   "metadata": {},
   "outputs": [],
   "source": [
    "import pickle\n",
    "pickle.dump(model,open('data11/result/svm.model','wb'))\n",
    "\n",
    "from sklearn import metrics\n",
    "cm_train=metrics.confusion_matrix(y_train,model.predict(x_train))\n",
    "cm_test=metrics.confusion_matrix(y_test,model.predict(x_test))\n",
    "\n",
    "outputfile1='data11/result/cm_train.xls'\n",
    "outputfile2='data11/result/cm_test.xls'\n",
    "pd.DataFrame(cm_train).to_excel(outputfile1)\n",
    "pd.DataFrame(cm_test).to_excel(outputfile2)\n"
   ]
  },
  {
   "cell_type": "code",
   "execution_count": 52,
   "metadata": {},
   "outputs": [
    {
     "name": "stdout",
     "output_type": "stream",
     "text": [
      "SVM(线性核)模型的准确率:0.9268\n",
      "SVM(rbf)模型的准确率:   0.9024\n",
      "决策树模型的准确率:     0.8537\n",
      "kNN(k=3)模型的准确率:   0.9024\n"
     ]
    }
   ],
   "source": [
    "#-*- coding:utf-8 -*-\n",
    "import pandas as pd\n",
    "\n",
    "datafile='data11/moment_2.csv'\n",
    "data=pd.read_csv(datafile,encoding='utf-8')\n",
    "\n",
    "data=data.as_matrix()\n",
    "from random import shuffle\n",
    "shuffle(data)\n",
    "\n",
    "data_train=data[:int(0.8*len(data)),:]\n",
    "data_test=data[int(0.8*len(data)):,:]\n",
    "\n",
    "x_train=data_train[:,2:]*30\n",
    "y_train=data_train[:,0].astype(int)\n",
    "x_test=data_test[:,2:]*30\n",
    "y_test=data_test[:,0].astype(int)\n",
    "\n",
    "from sklearn.svm import SVC\n",
    "SVM_linear=SVC(kernel='linear')\n",
    "SVM_linear.fit(x_train,y_train)\n",
    "\n",
    "from sklearn.svm import SVC\n",
    "SVM_rbf=SVC(kernel='rbf')\n",
    "SVM_rbf.fit(x_train,y_train)\n",
    "\n",
    "from sklearn.tree import DecisionTreeClassifier\n",
    "tree=DecisionTreeClassifier(criterion='entropy')\n",
    "tree.fit(x_train,y_train)\n",
    "\n",
    "from sklearn.neighbors import KNeighborsClassifier\n",
    "k=3\n",
    "kNN=KNeighborsClassifier(n_neighbors=k)\n",
    "kNN.fit(x_train,y_train)\n",
    "\n",
    "print(\"SVM(线性核)模型的准确率:%.4f\"%(SVM_linear.score(x_test,y_test)))\n",
    "print(\"SVM(rbf)模型的准确率:   %.4f\"%(SVM_rbf.score(x_test,y_test)))\n",
    "print(\"决策树模型的准确率:     %.4f\"%(tree.score(x_test,y_test)))\n",
    "print(\"kNN(k=3)模型的准确率:   %.4f\"%(kNN.score(x_test,y_test)))"
   ]
  },
  {
   "cell_type": "code",
   "execution_count": null,
   "metadata": {},
   "outputs": [],
   "source": []
  },
  {
   "cell_type": "code",
   "execution_count": null,
   "metadata": {},
   "outputs": [],
   "source": []
  },
  {
   "cell_type": "code",
   "execution_count": null,
   "metadata": {},
   "outputs": [],
   "source": []
  },
  {
   "cell_type": "code",
   "execution_count": null,
   "metadata": {},
   "outputs": [],
   "source": []
  },
  {
   "cell_type": "code",
   "execution_count": null,
   "metadata": {},
   "outputs": [],
   "source": []
  },
  {
   "cell_type": "code",
   "execution_count": null,
   "metadata": {},
   "outputs": [],
   "source": []
  },
  {
   "cell_type": "code",
   "execution_count": null,
   "metadata": {},
   "outputs": [],
   "source": []
  },
  {
   "cell_type": "code",
   "execution_count": null,
   "metadata": {},
   "outputs": [],
   "source": []
  },
  {
   "cell_type": "code",
   "execution_count": null,
   "metadata": {},
   "outputs": [],
   "source": []
  },
  {
   "cell_type": "code",
   "execution_count": null,
   "metadata": {},
   "outputs": [],
   "source": []
  },
  {
   "cell_type": "code",
   "execution_count": null,
   "metadata": {},
   "outputs": [],
   "source": []
  },
  {
   "cell_type": "code",
   "execution_count": null,
   "metadata": {},
   "outputs": [],
   "source": []
  },
  {
   "cell_type": "code",
   "execution_count": null,
   "metadata": {},
   "outputs": [],
   "source": []
  },
  {
   "cell_type": "code",
   "execution_count": null,
   "metadata": {},
   "outputs": [],
   "source": []
  },
  {
   "cell_type": "code",
   "execution_count": null,
   "metadata": {},
   "outputs": [],
   "source": []
  },
  {
   "cell_type": "code",
   "execution_count": null,
   "metadata": {},
   "outputs": [],
   "source": []
  },
  {
   "cell_type": "code",
   "execution_count": null,
   "metadata": {},
   "outputs": [],
   "source": []
  },
  {
   "cell_type": "code",
   "execution_count": null,
   "metadata": {},
   "outputs": [],
   "source": []
  },
  {
   "cell_type": "code",
   "execution_count": null,
   "metadata": {},
   "outputs": [],
   "source": []
  },
  {
   "cell_type": "code",
   "execution_count": null,
   "metadata": {},
   "outputs": [],
   "source": []
  },
  {
   "cell_type": "code",
   "execution_count": null,
   "metadata": {},
   "outputs": [],
   "source": []
  },
  {
   "cell_type": "code",
   "execution_count": null,
   "metadata": {},
   "outputs": [],
   "source": []
  },
  {
   "cell_type": "code",
   "execution_count": null,
   "metadata": {},
   "outputs": [],
   "source": []
  },
  {
   "cell_type": "code",
   "execution_count": null,
   "metadata": {},
   "outputs": [],
   "source": []
  },
  {
   "cell_type": "code",
   "execution_count": null,
   "metadata": {},
   "outputs": [],
   "source": []
  },
  {
   "cell_type": "code",
   "execution_count": null,
   "metadata": {},
   "outputs": [],
   "source": []
  },
  {
   "cell_type": "code",
   "execution_count": null,
   "metadata": {},
   "outputs": [],
   "source": []
  },
  {
   "cell_type": "code",
   "execution_count": null,
   "metadata": {},
   "outputs": [],
   "source": []
  },
  {
   "cell_type": "code",
   "execution_count": null,
   "metadata": {},
   "outputs": [],
   "source": []
  },
  {
   "cell_type": "code",
   "execution_count": null,
   "metadata": {},
   "outputs": [],
   "source": []
  },
  {
   "cell_type": "code",
   "execution_count": null,
   "metadata": {},
   "outputs": [],
   "source": []
  },
  {
   "cell_type": "code",
   "execution_count": null,
   "metadata": {},
   "outputs": [],
   "source": []
  },
  {
   "cell_type": "code",
   "execution_count": null,
   "metadata": {},
   "outputs": [],
   "source": []
  },
  {
   "cell_type": "code",
   "execution_count": null,
   "metadata": {},
   "outputs": [],
   "source": []
  },
  {
   "cell_type": "code",
   "execution_count": null,
   "metadata": {},
   "outputs": [],
   "source": []
  },
  {
   "cell_type": "code",
   "execution_count": null,
   "metadata": {},
   "outputs": [],
   "source": []
  },
  {
   "cell_type": "code",
   "execution_count": null,
   "metadata": {},
   "outputs": [],
   "source": []
  },
  {
   "cell_type": "code",
   "execution_count": null,
   "metadata": {},
   "outputs": [],
   "source": []
  },
  {
   "cell_type": "code",
   "execution_count": null,
   "metadata": {},
   "outputs": [],
   "source": []
  },
  {
   "cell_type": "code",
   "execution_count": null,
   "metadata": {},
   "outputs": [],
   "source": []
  },
  {
   "cell_type": "code",
   "execution_count": null,
   "metadata": {},
   "outputs": [],
   "source": []
  },
  {
   "cell_type": "code",
   "execution_count": null,
   "metadata": {},
   "outputs": [],
   "source": []
  },
  {
   "cell_type": "code",
   "execution_count": null,
   "metadata": {},
   "outputs": [],
   "source": []
  },
  {
   "cell_type": "code",
   "execution_count": null,
   "metadata": {},
   "outputs": [],
   "source": []
  },
  {
   "cell_type": "code",
   "execution_count": null,
   "metadata": {},
   "outputs": [],
   "source": []
  },
  {
   "cell_type": "code",
   "execution_count": null,
   "metadata": {},
   "outputs": [],
   "source": []
  },
  {
   "cell_type": "code",
   "execution_count": null,
   "metadata": {},
   "outputs": [],
   "source": []
  },
  {
   "cell_type": "code",
   "execution_count": null,
   "metadata": {},
   "outputs": [],
   "source": []
  },
  {
   "cell_type": "code",
   "execution_count": null,
   "metadata": {},
   "outputs": [],
   "source": []
  },
  {
   "cell_type": "code",
   "execution_count": null,
   "metadata": {},
   "outputs": [],
   "source": []
  },
  {
   "cell_type": "code",
   "execution_count": null,
   "metadata": {},
   "outputs": [],
   "source": []
  },
  {
   "cell_type": "code",
   "execution_count": null,
   "metadata": {},
   "outputs": [],
   "source": []
  },
  {
   "cell_type": "code",
   "execution_count": null,
   "metadata": {},
   "outputs": [],
   "source": []
  },
  {
   "cell_type": "code",
   "execution_count": null,
   "metadata": {},
   "outputs": [],
   "source": []
  },
  {
   "cell_type": "code",
   "execution_count": null,
   "metadata": {},
   "outputs": [],
   "source": []
  },
  {
   "cell_type": "code",
   "execution_count": null,
   "metadata": {},
   "outputs": [],
   "source": []
  },
  {
   "cell_type": "code",
   "execution_count": null,
   "metadata": {},
   "outputs": [],
   "source": []
  },
  {
   "cell_type": "code",
   "execution_count": null,
   "metadata": {},
   "outputs": [],
   "source": []
  },
  {
   "cell_type": "code",
   "execution_count": null,
   "metadata": {},
   "outputs": [],
   "source": []
  },
  {
   "cell_type": "code",
   "execution_count": null,
   "metadata": {},
   "outputs": [],
   "source": []
  },
  {
   "cell_type": "code",
   "execution_count": null,
   "metadata": {},
   "outputs": [],
   "source": []
  },
  {
   "cell_type": "code",
   "execution_count": null,
   "metadata": {},
   "outputs": [],
   "source": []
  },
  {
   "cell_type": "code",
   "execution_count": null,
   "metadata": {},
   "outputs": [],
   "source": []
  },
  {
   "cell_type": "code",
   "execution_count": null,
   "metadata": {},
   "outputs": [],
   "source": []
  },
  {
   "cell_type": "code",
   "execution_count": null,
   "metadata": {},
   "outputs": [],
   "source": []
  },
  {
   "cell_type": "code",
   "execution_count": null,
   "metadata": {},
   "outputs": [],
   "source": []
  },
  {
   "cell_type": "code",
   "execution_count": null,
   "metadata": {},
   "outputs": [],
   "source": []
  }
 ],
 "metadata": {
  "kernelspec": {
   "display_name": "Python 3",
   "language": "python",
   "name": "python3"
  },
  "language_info": {
   "codemirror_mode": {
    "name": "ipython",
    "version": 3
   },
   "file_extension": ".py",
   "mimetype": "text/x-python",
   "name": "python",
   "nbconvert_exporter": "python",
   "pygments_lexer": "ipython3",
   "version": "3.5.6"
  }
 },
 "nbformat": 4,
 "nbformat_minor": 2
}
