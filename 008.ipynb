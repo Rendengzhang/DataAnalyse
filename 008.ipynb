{
 "cells": [
  {
   "cell_type": "code",
   "execution_count": 1,
   "metadata": {},
   "outputs": [],
   "source": [
    "from __future__ import division\n",
    "\n",
    "import numpy as np\n",
    "import pandas as pd\n",
    "from pandas import Series,DataFrame\n",
    "\n",
    "%matplotlib inline\n",
    "import matplotlib.pyplot as plt\n",
    "\n",
    "np.random.seed(12345)\n",
    "np.set_printoptions(precision=4)\n",
    "plt.rc('figure',figsize=(10,6))\n",
    "br='\\n'"
   ]
  },
  {
   "cell_type": "code",
   "execution_count": 22,
   "metadata": {},
   "outputs": [],
   "source": [
    "from __future__ import division\n",
    "import os, sys\n",
    "from numpy import *\n",
    "from math import *\n",
    "\n",
    "def loadDataSet(fileName):\n",
    "    numFeat=len(open(fileName).readline().split('\\t'))-1\n",
    "    dataArr=[]\n",
    "    labelArr=[]\n",
    "    fr=open(fileName)\n",
    "    for line in fr.readlines():\n",
    "        lineArr=[]\n",
    "       # lineArr.append(1.0)\n",
    "        curLine=line.strip().split('\\t')\n",
    "        for i in range(numFeat):\n",
    "            lineArr.append(float(curLine[i]))\n",
    "        dataArr.append(lineArr)\n",
    "        labelArr.append(float(curLine[-1]))\n",
    "    return dataArr,labelArr\n",
    "        "
   ]
  },
  {
   "cell_type": "code",
   "execution_count": 23,
   "metadata": {},
   "outputs": [],
   "source": [
    "def standRegres(xArr,yArr):\n",
    "    xMat=mat(xArr);yMat=mat(yArr).T\n",
    "    xTx=xMat.T*xMat\n",
    "    if linalg.det(xTx) == 0.0:\n",
    "        print(\"This matrix is singular, cannot do inverse\")\n",
    "        return \n",
    "    ws=xTx.I * (xMat.T * yMat)\n",
    "    return ws"
   ]
  },
  {
   "cell_type": "code",
   "execution_count": 24,
   "metadata": {},
   "outputs": [
    {
     "name": "stdout",
     "output_type": "stream",
     "text": [
      "1.000000\t0.067732\t3.176513\n",
      "1.000000\t0.427810\t3.816464\n",
      "1.000000\t0.995731\t4.550095\n",
      "1.000000\t0.738336\t4.256571\n",
      "1.000000\t0.981083\t4.560815\n",
      "1.000000\t0.526171\t3.929515\n",
      "1.000000\t0.378887\t3.526170\n",
      "1.000000\t0.033859\t3.156393\n",
      "1.000000\t0.132791\t3.110301\n",
      "1.000000\t0.138306\t3.149813\n",
      "1.000000\t0.247809\t3.476346\n",
      "1.000000\t0.648270\t4.119688\n",
      "1.000000\t0.731209\t4.282233\n",
      "1.000000\t0.236833\t3.486582\n",
      "1.000000\t0.969788\t4.655492\n",
      "1.000000\t0.607492\t3.965162\n",
      "1.000000\t0.358622\t3.514900\n",
      "1.000000\t0.147846\t3.125947\n",
      "1.000000\t0.637820\t4.094115\n",
      "1.000000\t0.230372\t3.476039\n",
      "1.000000\t0.070237\t3.210610\n",
      "1.000000\t0.067154\t3.190612\n",
      "1.000000\t0.925577\t4.631504\n",
      "1.000000\t0.717733\t4.295890\n",
      "1.000000\t0.015371\t3.085028\n",
      "1.000000\t0.335070\t3.448080\n",
      "1.000000\t0.040486\t3.167440\n",
      "1.000000\t0.212575\t3.364266\n",
      "1.000000\t0.617218\t3.993482\n",
      "1.000000\t0.541196\t3.891471\n",
      "1.000000\t0.045353\t3.143259\n",
      "1.000000\t0.126762\t3.114204\n",
      "1.000000\t0.556486\t3.851484\n",
      "1.000000\t0.901144\t4.621899\n",
      "1.000000\t0.958476\t4.580768\n",
      "1.000000\t0.274561\t3.620992\n",
      "1.000000\t0.394396\t3.580501\n",
      "1.000000\t0.872480\t4.618706\n",
      "1.000000\t0.409932\t3.676867\n",
      "1.000000\t0.908969\t4.641845\n",
      "1.000000\t0.166819\t3.175939\n",
      "1.000000\t0.665016\t4.264980\n",
      "1.000000\t0.263727\t3.558448\n",
      "1.000000\t0.231214\t3.436632\n",
      "1.000000\t0.552928\t3.831052\n",
      "1.000000\t0.047744\t3.182853\n",
      "1.000000\t0.365746\t3.498906\n",
      "1.000000\t0.495002\t3.946833\n",
      "1.000000\t0.493466\t3.900583\n",
      "1.000000\t0.792101\t4.238522\n",
      "1.000000\t0.769660\t4.233080\n",
      "1.000000\t0.251821\t3.521557\n",
      "1.000000\t0.181951\t3.203344\n",
      "1.000000\t0.808177\t4.278105\n",
      "1.000000\t0.334116\t3.555705\n",
      "1.000000\t0.338630\t3.502661\n",
      "1.000000\t0.452584\t3.859776\n",
      "1.000000\t0.694770\t4.275956\n",
      "1.000000\t0.590902\t3.916191\n",
      "1.000000\t0.307928\t3.587961\n",
      "1.000000\t0.148364\t3.183004\n",
      "1.000000\t0.702180\t4.225236\n",
      "1.000000\t0.721544\t4.231083\n",
      "1.000000\t0.666886\t4.240544\n",
      "1.000000\t0.124931\t3.222372\n",
      "1.000000\t0.618286\t4.021445\n",
      "1.000000\t0.381086\t3.567479\n",
      "1.000000\t0.385643\t3.562580\n",
      "1.000000\t0.777175\t4.262059\n",
      "1.000000\t0.116089\t3.208813\n",
      "1.000000\t0.115487\t3.169825\n",
      "1.000000\t0.663510\t4.193949\n",
      "1.000000\t0.254884\t3.491678\n",
      "1.000000\t0.993888\t4.533306\n",
      "1.000000\t0.295434\t3.550108\n",
      "1.000000\t0.952523\t4.636427\n",
      "1.000000\t0.307047\t3.557078\n",
      "1.000000\t0.277261\t3.552874\n",
      "1.000000\t0.279101\t3.494159\n",
      "1.000000\t0.175724\t3.206828\n",
      "1.000000\t0.156383\t3.195266\n",
      "1.000000\t0.733165\t4.221292\n",
      "1.000000\t0.848142\t4.413372\n",
      "1.000000\t0.771184\t4.184347\n",
      "1.000000\t0.429492\t3.742878\n",
      "1.000000\t0.162176\t3.201878\n",
      "1.000000\t0.917064\t4.648964\n",
      "1.000000\t0.315044\t3.510117\n",
      "1.000000\t0.201473\t3.274434\n",
      "1.000000\t0.297038\t3.579622\n",
      "1.000000\t0.336647\t3.489244\n",
      "1.000000\t0.666109\t4.237386\n",
      "1.000000\t0.583888\t3.913749\n",
      "1.000000\t0.085031\t3.228990\n",
      "1.000000\t0.687006\t4.286286\n",
      "1.000000\t0.949655\t4.628614\n",
      "1.000000\t0.189912\t3.239536\n",
      "1.000000\t0.844027\t4.457997\n",
      "1.000000\t0.333288\t3.513384\n",
      "1.000000\t0.427035\t3.729674\n",
      "1.000000\t0.466369\t3.834274\n",
      "1.000000\t0.550659\t3.811155\n",
      "1.000000\t0.278213\t3.598316\n",
      "1.000000\t0.918769\t4.692514\n",
      "1.000000\t0.886555\t4.604859\n",
      "1.000000\t0.569488\t3.864912\n",
      "1.000000\t0.066379\t3.184236\n",
      "1.000000\t0.335751\t3.500796\n",
      "1.000000\t0.426863\t3.743365\n",
      "1.000000\t0.395746\t3.622905\n",
      "1.000000\t0.694221\t4.310796\n",
      "1.000000\t0.272760\t3.583357\n",
      "1.000000\t0.503495\t3.901852\n",
      "1.000000\t0.067119\t3.233521\n",
      "1.000000\t0.038326\t3.105266\n",
      "1.000000\t0.599122\t3.865544\n",
      "1.000000\t0.947054\t4.628625\n",
      "1.000000\t0.671279\t4.231213\n",
      "1.000000\t0.434811\t3.791149\n",
      "1.000000\t0.509381\t3.968271\n",
      "1.000000\t0.749442\t4.253910\n",
      "1.000000\t0.058014\t3.194710\n",
      "1.000000\t0.482978\t3.996503\n",
      "1.000000\t0.466776\t3.904358\n",
      "1.000000\t0.357767\t3.503976\n",
      "1.000000\t0.949123\t4.557545\n",
      "1.000000\t0.417320\t3.699876\n",
      "1.000000\t0.920461\t4.613614\n",
      "1.000000\t0.156433\t3.140401\n",
      "1.000000\t0.656662\t4.206717\n",
      "1.000000\t0.616418\t3.969524\n",
      "1.000000\t0.853428\t4.476096\n",
      "1.000000\t0.133295\t3.136528\n",
      "1.000000\t0.693007\t4.279071\n",
      "1.000000\t0.178449\t3.200603\n",
      "1.000000\t0.199526\t3.299012\n",
      "1.000000\t0.073224\t3.209873\n",
      "1.000000\t0.286515\t3.632942\n",
      "1.000000\t0.182026\t3.248361\n",
      "1.000000\t0.621523\t3.995783\n",
      "1.000000\t0.344584\t3.563262\n",
      "1.000000\t0.398556\t3.649712\n",
      "1.000000\t0.480369\t3.951845\n",
      "1.000000\t0.153350\t3.145031\n",
      "1.000000\t0.171846\t3.181577\n",
      "1.000000\t0.867082\t4.637087\n",
      "1.000000\t0.223855\t3.404964\n",
      "1.000000\t0.528301\t3.873188\n",
      "1.000000\t0.890192\t4.633648\n",
      "1.000000\t0.106352\t3.154768\n",
      "1.000000\t0.917886\t4.623637\n",
      "1.000000\t0.014855\t3.078132\n",
      "1.000000\t0.567682\t3.913596\n",
      "1.000000\t0.068854\t3.221817\n",
      "1.000000\t0.603535\t3.938071\n",
      "1.000000\t0.532050\t3.880822\n",
      "1.000000\t0.651362\t4.176436\n",
      "1.000000\t0.901225\t4.648161\n",
      "1.000000\t0.204337\t3.332312\n",
      "1.000000\t0.696081\t4.240614\n",
      "1.000000\t0.963924\t4.532224\n",
      "1.000000\t0.981390\t4.557105\n",
      "1.000000\t0.987911\t4.610072\n",
      "1.000000\t0.990947\t4.636569\n",
      "1.000000\t0.736021\t4.229813\n",
      "1.000000\t0.253574\t3.500860\n",
      "1.000000\t0.674722\t4.245514\n",
      "1.000000\t0.939368\t4.605182\n",
      "1.000000\t0.235419\t3.454340\n",
      "1.000000\t0.110521\t3.180775\n",
      "1.000000\t0.218023\t3.380820\n",
      "1.000000\t0.869778\t4.565020\n",
      "1.000000\t0.196830\t3.279973\n",
      "1.000000\t0.958178\t4.554241\n",
      "1.000000\t0.972673\t4.633520\n",
      "1.000000\t0.745797\t4.281037\n",
      "1.000000\t0.445674\t3.844426\n",
      "1.000000\t0.470557\t3.891601\n",
      "1.000000\t0.549236\t3.849728\n",
      "1.000000\t0.335691\t3.492215\n",
      "1.000000\t0.884739\t4.592374\n",
      "1.000000\t0.918916\t4.632025\n",
      "1.000000\t0.441815\t3.756750\n",
      "1.000000\t0.116598\t3.133555\n",
      "1.000000\t0.359274\t3.567919\n",
      "1.000000\t0.814811\t4.363382\n",
      "1.000000\t0.387125\t3.560165\n",
      "1.000000\t0.982243\t4.564305\n",
      "1.000000\t0.780880\t4.215055\n",
      "1.000000\t0.652565\t4.174999\n",
      "1.000000\t0.870030\t4.586640\n",
      "1.000000\t0.604755\t3.960008\n",
      "1.000000\t0.255212\t3.529963\n",
      "1.000000\t0.730546\t4.213412\n",
      "1.000000\t0.493829\t3.908685\n",
      "1.000000\t0.257017\t3.585821\n",
      "1.000000\t0.833735\t4.374394\n",
      "1.000000\t0.070095\t3.213817\n",
      "1.000000\t0.527070\t3.952681\n",
      "1.000000\t0.116163\t3.129283\n"
     ]
    }
   ],
   "source": [
    "!type data8\\ex0.txt"
   ]
  },
  {
   "cell_type": "code",
   "execution_count": 25,
   "metadata": {},
   "outputs": [],
   "source": [
    "xArr,yArr=loadDataSet(\"data8/ex0.txt\")"
   ]
  },
  {
   "cell_type": "code",
   "execution_count": 26,
   "metadata": {},
   "outputs": [
    {
     "data": {
      "text/plain": [
       "[[1.0, 0.067732], [1.0, 0.42781]]"
      ]
     },
     "execution_count": 26,
     "metadata": {},
     "output_type": "execute_result"
    }
   ],
   "source": [
    "xArr[0:2]"
   ]
  },
  {
   "cell_type": "code",
   "execution_count": 27,
   "metadata": {},
   "outputs": [
    {
     "data": {
      "text/plain": [
       "[3.176513, 3.816464]"
      ]
     },
     "execution_count": 27,
     "metadata": {},
     "output_type": "execute_result"
    }
   ],
   "source": [
    "yArr[0:2]"
   ]
  },
  {
   "cell_type": "code",
   "execution_count": 28,
   "metadata": {},
   "outputs": [],
   "source": [
    "ws=standRegres(xArr,yArr)"
   ]
  },
  {
   "cell_type": "code",
   "execution_count": 29,
   "metadata": {},
   "outputs": [
    {
     "data": {
      "text/plain": [
       "matrix([[3.0077],\n",
       "        [1.6953]])"
      ]
     },
     "execution_count": 29,
     "metadata": {},
     "output_type": "execute_result"
    }
   ],
   "source": [
    "ws"
   ]
  },
  {
   "cell_type": "code",
   "execution_count": 30,
   "metadata": {},
   "outputs": [],
   "source": [
    "xMat=mat(xArr)\n",
    "yMat=mat(yArr)\n",
    "yHat=xMat * ws"
   ]
  },
  {
   "cell_type": "code",
   "execution_count": 31,
   "metadata": {},
   "outputs": [
    {
     "name": "stdout",
     "output_type": "stream",
     "text": [
      "[3.176513, 3.816464] <class 'list'>\n",
      "[[3.1226]\n",
      " [3.733 ]] <class 'numpy.matrixlib.defmatrix.matrix'>\n"
     ]
    }
   ],
   "source": [
    "print(yArr[0:2],type(yArr))\n",
    "print(yHat[0:2],type(yHat))"
   ]
  },
  {
   "cell_type": "code",
   "execution_count": 32,
   "metadata": {},
   "outputs": [
    {
     "data": {
      "text/plain": [
       "[[3.1225708358971342], [3.733019222244863]]"
      ]
     },
     "execution_count": 32,
     "metadata": {},
     "output_type": "execute_result"
    }
   ],
   "source": [
    "yHat[0:2].tolist()"
   ]
  },
  {
   "cell_type": "code",
   "execution_count": 33,
   "metadata": {},
   "outputs": [
    {
     "data": {
      "text/plain": [
       "<matplotlib.collections.PathCollection at 0x64ee887e80>"
      ]
     },
     "execution_count": 33,
     "metadata": {},
     "output_type": "execute_result"
    },
    {
     "data": {
      "image/png": "[encoded data removed]",
      "text/plain": [
       "<Figure size 432x288 with 1 Axes>"
      ]
     },
     "metadata": {
      "needs_background": "light"
     },
     "output_type": "display_data"
    }
   ],
   "source": [
    "%matplotlib inline\n",
    "import matplotlib.pyplot as plt\n",
    "\n",
    "fig=plt.figure()\n",
    "ax=fig.add_subplot(111)\n",
    "ax.scatter(xMat[:,1].flatten().A[0],yMat.T[:,0].flatten().A[0])"
   ]
  },
  {
   "cell_type": "code",
   "execution_count": 36,
   "metadata": {},
   "outputs": [
    {
     "data": {
      "text/plain": [
       "[<matplotlib.lines.Line2D at 0x64efd16b70>]"
      ]
     },
     "execution_count": 36,
     "metadata": {},
     "output_type": "execute_result"
    },
    {
     "data": {
      "image/png": "[encoded data removed]",
      "text/plain": [
       "<Figure size 432x288 with 1 Axes>"
      ]
     },
     "metadata": {
      "needs_background": "light"
     },
     "output_type": "display_data"
    }
   ],
   "source": [
    "xCopy = xMat.copy()\n",
    "xCopy.sort(0)\n",
    "yHat=xCopy * ws\n",
    "\n",
    "fig=plt.figure()\n",
    "ax=fig.add_subplot(111)\n",
    "ax.scatter(xMat[:,1].flatten().A[0],yMat.T[:,0].flatten().A[0])\n",
    "ax.plot(xCopy[:,1],yHat)"
   ]
  },
  {
   "cell_type": "code",
   "execution_count": 37,
   "metadata": {},
   "outputs": [],
   "source": [
    "yHat=xMat * ws"
   ]
  },
  {
   "cell_type": "code",
   "execution_count": 38,
   "metadata": {},
   "outputs": [
    {
     "data": {
      "text/plain": [
       "array([[1.    , 0.9865],\n",
       "       [0.9865, 1.    ]])"
      ]
     },
     "execution_count": 38,
     "metadata": {},
     "output_type": "execute_result"
    }
   ],
   "source": [
    "corrcoef(yMat,yHat.T)"
   ]
  },
  {
   "cell_type": "code",
   "execution_count": 62,
   "metadata": {},
   "outputs": [],
   "source": [
    "def lwlr(testPoint,xArr, yArr,k=1.0):\n",
    "    xMat=mat(xArr);yMat=mat(yArr).T\n",
    "    m=shape(xMat)[0]\n",
    "    weights=mat(eye((m)))\n",
    "    for j  in range(m):\n",
    "        diffMat=testPoint -xMat[j,:]\n",
    "        weights[j,j]=exp(diffMat*diffMat.T/(-2.0*k**2))\n",
    "    xTx=xMat.T*(weights*xMat)\n",
    "    if linalg.det(xTx)==0.0:\n",
    "        print(\"This matriex is singular,cannot do inverse\")\n",
    "        return \n",
    "    ws=xTx.I *(xMat.T *(weights*yMat))\n",
    "    return testPoint *ws\n",
    "def lwlrTest(testArr,xArr,yArr,k=1.0):\n",
    "    m=shape(testArr)[0]\n",
    "    yHat=zeros(m)\n",
    "    for i in range(m):\n",
    "        yHat[i]=lwlr(testArr[i],xArr,yArr,k)\n",
    "    return yHat\n",
    "def lwlrTestPlot(xArr,yArr,k=1.0):\n",
    "    yHat=zeros(shape(yArr))\n",
    "    xCopy=mat(xArr)\n",
    "    xCopy.sort(0)\n",
    "    for i in range(shape(xArr)[0]):\n",
    "        yHat[i]=lwlr(xCopy[i],xArr,yArr,k)\n",
    "    return yHat,xCopy"
   ]
  },
  {
   "cell_type": "code",
   "execution_count": 42,
   "metadata": {},
   "outputs": [],
   "source": [
    "xArr,yArr=loadDataSet(\"data8/ex0.txt\")"
   ]
  },
  {
   "cell_type": "code",
   "execution_count": 45,
   "metadata": {},
   "outputs": [
    {
     "name": "stdout",
     "output_type": "stream",
     "text": [
      "3.176513\n",
      "[[3.1226]]\n",
      "[[3.1226]]\n",
      "[[3.1226]]\n"
     ]
    }
   ],
   "source": [
    "print(yArr[0])\n",
    "print(lwlr(xArr[0],xArr,yArr,1.0))\n",
    "print(lwlr(xArr[0],xArr,yArr,0.05))\n",
    "print(lwlr(xArr[0],xArr,yArr,0.001))"
   ]
  },
  {
   "cell_type": "code",
   "execution_count": 46,
   "metadata": {},
   "outputs": [],
   "source": [
    "yHat=lwlrTest(xArr,xArr,yArr,1.0)"
   ]
  },
  {
   "cell_type": "code",
   "execution_count": 58,
   "metadata": {},
   "outputs": [
    {
     "data": {
      "text/plain": [
       "[<matplotlib.lines.Line2D at 0x64efced1d0>]"
      ]
     },
     "execution_count": 58,
     "metadata": {},
     "output_type": "execute_result"
    },
    {
     "data": {
      "image/png": "[encoded data removed]",
      "text/plain": [
       "<Figure size 432x288 with 1 Axes>"
      ]
     },
     "metadata": {
      "needs_background": "light"
     },
     "output_type": "display_data"
    }
   ],
   "source": [
    "xMat=mat(xArr)\n",
    "srtInd =xMat[:,1].argsort(0)\n",
    "xSort=xMat[srtInd][:,0,:]\n",
    "\n",
    "fig=plt.figure()\n",
    "ax=fig.add_subplot(111)\n",
    "ax.scatter(xMat[:,1].flatten().A[0],yMat.T[:,0].flatten().A[0],s=5,c='green')\n",
    "ax.plot(xSort[:,1],yHat[srtInd])"
   ]
  },
  {
   "cell_type": "code",
   "execution_count": 63,
   "metadata": {},
   "outputs": [
    {
     "data": {
      "text/plain": [
       "[<matplotlib.lines.Line2D at 0x64f02062b0>]"
      ]
     },
     "execution_count": 63,
     "metadata": {},
     "output_type": "execute_result"
    },
    {
     "data": {
      "image/png": "[encoded data removed]",
      "text/plain": [
       "<Figure size 432x288 with 1 Axes>"
      ]
     },
     "metadata": {
      "needs_background": "light"
     },
     "output_type": "display_data"
    }
   ],
   "source": [
    "yHat=lwlrTest(xArr,xArr,yArr,0.01)\n",
    "xMat=mat(xArr)\n",
    "srtInd=xMat[:,1].argsort(0)\n",
    "xSort=xMat[srtInd][:,0,:]\n",
    "\n",
    "fig=plt.figure()\n",
    "ax=fig.add_subplot(111)\n",
    "ax.scatter(xMat[:,1].flatten().A[0],yMat.T[:,0].flatten().A[0],s=5,c='red')\n",
    "ax.plot(xSort[:,1],yHat[srtInd])"
   ]
  },
  {
   "cell_type": "code",
   "execution_count": 64,
   "metadata": {},
   "outputs": [
    {
     "data": {
      "text/plain": [
       "[<matplotlib.lines.Line2D at 0x64f0238780>]"
      ]
     },
     "execution_count": 64,
     "metadata": {},
     "output_type": "execute_result"
    },
    {
     "data": {
      "image/png": "[encoded data removed]",
      "text/plain": [
       "<Figure size 432x288 with 1 Axes>"
      ]
     },
     "metadata": {
      "needs_background": "light"
     },
     "output_type": "display_data"
    }
   ],
   "source": [
    "yHat=lwlrTest(xArr,xArr,yArr,0.003)\n",
    "xMat=mat(xArr)\n",
    "srtInd=xMat[:,1].argsort(0)\n",
    "xSort=xMat[srtInd][:,0,:]\n",
    "\n",
    "fig=plt.figure()\n",
    "ax=fig.add_subplot(111)\n",
    "ax.scatter(xMat[:,1].flatten().A[0],yMat.T[:,0].flatten().A[0],s=2,c='red')\n",
    "ax.plot(xSort[:,1],yHat[srtInd])"
   ]
  },
  {
   "cell_type": "code",
   "execution_count": 65,
   "metadata": {},
   "outputs": [],
   "source": [
    "def rssError(yArr,yHatArr):\n",
    "    return ((yArr-yHatArr)**2).sum()\n"
   ]
  },
  {
   "cell_type": "code",
   "execution_count": 66,
   "metadata": {},
   "outputs": [],
   "source": [
    "abX,abY=loadDataSet('data8/abalone.txt')"
   ]
  },
  {
   "cell_type": "code",
   "execution_count": 67,
   "metadata": {},
   "outputs": [],
   "source": [
    "yHat01=lwlrTest(abX[0:99],abX[0:99],abY[0:99],0.1)\n",
    "yHat1=lwlrTest(abX[0:99],abX[0:99],abY[0:99],1)\n",
    "yHat10=lwlrTest(abX[0:99],abX[0:99],abY[0:99],10)"
   ]
  },
  {
   "cell_type": "code",
   "execution_count": 68,
   "metadata": {},
   "outputs": [
    {
     "name": "stdout",
     "output_type": "stream",
     "text": [
      "56.78420911837208 429.89056187030394 549.1181708826065\n"
     ]
    }
   ],
   "source": [
    "err01=rssError(abY[0:99],yHat01.T)\n",
    "err1=rssError(abY[0:99],yHat1.T)\n",
    "err10=rssError(abY[0:99],yHat10.T)\n",
    "print(err01,err1,err10)"
   ]
  },
  {
   "cell_type": "code",
   "execution_count": 71,
   "metadata": {},
   "outputs": [
    {
     "name": "stdout",
     "output_type": "stream",
     "text": [
      "25119.459111157415 573.5261441895706 517.5711905381745\n"
     ]
    }
   ],
   "source": [
    "yHat01=lwlrTest(abX[100:199],abX[0:99],abY[0:99],0.1)\n",
    "yHat1=lwlrTest(abX[100:199],abX[0:99],abY[0:99],1)\n",
    "yHat10=lwlrTest(abX[100:199],abX[0:99],abY[0:99],10)\n",
    "\n",
    "err01=rssError(abY[100:199],yHat01.T)\n",
    "err1=rssError(abY[100:199],yHat1.T)\n",
    "err10=rssError(abY[100:199],yHat10.T)\n",
    "print(err01,err1,err10)"
   ]
  },
  {
   "cell_type": "code",
   "execution_count": 73,
   "metadata": {},
   "outputs": [
    {
     "data": {
      "text/plain": [
       "518.6363153249081"
      ]
     },
     "execution_count": 73,
     "metadata": {},
     "output_type": "execute_result"
    }
   ],
   "source": [
    "ws=standRegres(abX[0:99],abY[0:99])\n",
    "yHat=mat(abX[100:199])*ws\n",
    "rssError(abY[100:199],yHat.T.A)"
   ]
  },
  {
   "cell_type": "code",
   "execution_count": null,
   "metadata": {},
   "outputs": [],
   "source": [
    "#岭回归训练"
   ]
  },
  {
   "cell_type": "code",
   "execution_count": 74,
   "metadata": {},
   "outputs": [],
   "source": [
    "def ridgeRegres(xMat,yMat,lam=0.2):\n",
    "    xTx=xMat.T*xMat\n",
    "    denom=xTx+eye(shape(xMat)[1])*lam\n",
    "    if linalg.det(denom)==0.0:\n",
    "        print(\"This matrix is singular ,cannot do inverse\")\n",
    "        return \n",
    "    ws=denom.I*(xMat.T*yMat)\n",
    "    return ws \n",
    "def ridgeTest(xArr,yArr):\n",
    "    xMat=mat(xArr);yMat=mat(yArr).T\n",
    "    yMean=mean(yMat,0)\n",
    "    yMat=yMat-yMean\n",
    "    \n",
    "    xMeans=mean(xMat,0)\n",
    "    xVar=var(xMat,0)\n",
    "    xMat=(xMat-xMeans)/xVar\n",
    "    numTestPts=30\n",
    "    wMat=zeros((numTestPts,shape(xMat)[1]))\n",
    "    for i in range(numTestPts):\n",
    "        ws=ridgeRegres(xMat,yMat,exp(i-10))\n",
    "        wMat[i,:]=ws.T\n",
    "    return wMat"
   ]
  },
  {
   "cell_type": "code",
   "execution_count": 75,
   "metadata": {},
   "outputs": [],
   "source": [
    "abX,abY=loadDataSet('data8/abalone.txt')"
   ]
  },
  {
   "cell_type": "code",
   "execution_count": 76,
   "metadata": {},
   "outputs": [
    {
     "data": {
      "text/plain": [
       "[[1.0, 0.455, 0.365, 0.095, 0.514, 0.2245, 0.101, 0.15],\n",
       " [1.0, 0.35, 0.265, 0.09, 0.2255, 0.0995, 0.0485, 0.07]]"
      ]
     },
     "execution_count": 76,
     "metadata": {},
     "output_type": "execute_result"
    }
   ],
   "source": [
    "abX[0:2]"
   ]
  },
  {
   "cell_type": "code",
   "execution_count": 77,
   "metadata": {},
   "outputs": [
    {
     "data": {
      "text/plain": [
       "[15.0, 7.0]"
      ]
     },
     "execution_count": 77,
     "metadata": {},
     "output_type": "execute_result"
    }
   ],
   "source": [
    "abY[0:2]"
   ]
  },
  {
   "cell_type": "code",
   "execution_count": 79,
   "metadata": {},
   "outputs": [
    {
     "data": {
      "text/plain": [
       "array([[ 0.043 , -0.0227,  0.1321,  0.0208,  2.224 , -0.999 , -0.1173,\n",
       "         0.1662],\n",
       "       [ 0.043 , -0.0227,  0.1321,  0.0208,  2.224 , -0.999 , -0.1173,\n",
       "         0.1662]])"
      ]
     },
     "execution_count": 79,
     "metadata": {},
     "output_type": "execute_result"
    }
   ],
   "source": [
    "ridgeWeights=ridgeTest(abX,abY)\n",
    "ridgeWeights[0:2]"
   ]
  },
  {
   "cell_type": "code",
   "execution_count": 80,
   "metadata": {},
   "outputs": [
    {
     "data": {
      "image/png": "[encoded data removed]",
      "text/plain": [
       "<Figure size 432x288 with 1 Axes>"
      ]
     },
     "metadata": {
      "needs_background": "light"
     },
     "output_type": "display_data"
    }
   ],
   "source": [
    "%matplotlib inline \n",
    "import matplotlib.pyplot as plt\n",
    "\n",
    "fig =plt.figure()\n",
    "ax=fig.add_subplot(111)\n",
    "ax.plot(ridgeWeights)\n",
    "plt.show()\n"
   ]
  },
  {
   "cell_type": "code",
   "execution_count": 81,
   "metadata": {},
   "outputs": [
    {
     "name": "stdout",
     "output_type": "stream",
     "text": [
      "423.1738026377151 429.6299801738408 460.9777965706153\n"
     ]
    }
   ],
   "source": [
    "RGws01=ridgeRegres(mat(abX[0:99]),mat(abY[0:99]).T,0.1)\n",
    "RGws02=ridgeRegres(mat(abX[0:99]),mat(abY[0:99]).T,0.2)\n",
    "RGws05=ridgeRegres(mat(abX[0:99]),mat(abY[0:99]).T,0.5)\n",
    "\n",
    "yHat01=mat(abX[100:199])*RGws01\n",
    "yHat02=mat(abX[100:199])*RGws02\n",
    "yHat05=mat(abX[100:199])*RGws05\n",
    "\n",
    "err01=rssError(abY[100:199],yHat01.T.A)\n",
    "err02=rssError(abY[100:199],yHat02.T.A)\n",
    "err05=rssError(abY[100:199],yHat05.T.A)\n",
    "print(err01,err02,err05)"
   ]
  },
  {
   "cell_type": "code",
   "execution_count": 82,
   "metadata": {},
   "outputs": [],
   "source": [
    "def regularize(xMat):\n",
    "    inMat=xMat.copy()\n",
    "    inMeans=mean(inMat,0)\n",
    "    inVar=var(inMat,0)\n",
    "    inMat=(inMat-inMeans)/inVar\n",
    "    return inMat"
   ]
  },
  {
   "cell_type": "code",
   "execution_count": 93,
   "metadata": {},
   "outputs": [],
   "source": [
    "def stageWise(xArr,yArr,eps=0.01,numlt=100):\n",
    "    xMat=mat(xArr);yMat=mat(yArr).T\n",
    "    yMean=mean(yMat,0)\n",
    "    yMat=yMat-yMean\n",
    "    xMat=regularize(xMat)\n",
    "    m,n=shape(xMat)\n",
    "    returnMat=zeros((numlt,n))\n",
    "    ws=zeros((n,1));wsTest=ws.copy();wsMax=ws.copy()\n",
    "    for i in range(numlt):\n",
    "        lowestError=inf;\n",
    "        for j in range(n):\n",
    "            for sign in [-1,1]:\n",
    "                wsTest=ws.copy()\n",
    "                wsTest[j]+=eps*sign\n",
    "                yTest=xMat*wsTest\n",
    "                rssE=rssError(yMat.A,yTest.A)\n",
    "                if rssE<lowestError:\n",
    "                    lowestError=rssE\n",
    "                    wsMax=wsTest\n",
    "        ws=wsMax.copy()\n",
    "        returnMat[i,:]=ws.T\n",
    "    return returnMat"
   ]
  },
  {
   "cell_type": "code",
   "execution_count": 94,
   "metadata": {},
   "outputs": [],
   "source": [
    "abX,abY=loadDataSet('data8/abalone.txt')"
   ]
  },
  {
   "cell_type": "code",
   "execution_count": 95,
   "metadata": {},
   "outputs": [],
   "source": [
    "returnMat=stageWise(abX,abY,0.01,200)"
   ]
  },
  {
   "cell_type": "code",
   "execution_count": 96,
   "metadata": {},
   "outputs": [
    {
     "data": {
      "text/plain": [
       "array([[ 0.  ,  0.  ,  0.  , ...,  0.  ,  0.  ,  0.  ],\n",
       "       [ 0.  ,  0.  ,  0.  , ...,  0.  ,  0.  ,  0.  ],\n",
       "       [ 0.  ,  0.  ,  0.  , ...,  0.  ,  0.  ,  0.  ],\n",
       "       ...,\n",
       "       [ 0.05,  0.  ,  0.09, ..., -0.64,  0.  ,  0.36],\n",
       "       [ 0.04,  0.  ,  0.09, ..., -0.64,  0.  ,  0.36],\n",
       "       [ 0.05,  0.  ,  0.09, ..., -0.64,  0.  ,  0.36]])"
      ]
     },
     "execution_count": 96,
     "metadata": {},
     "output_type": "execute_result"
    }
   ],
   "source": [
    "returnMat"
   ]
  },
  {
   "cell_type": "code",
   "execution_count": 97,
   "metadata": {},
   "outputs": [
    {
     "data": {
      "text/plain": [
       "matrix([[ 0.043 , -0.0227,  0.1321,  0.0208,  2.224 , -0.999 , -0.1173,\n",
       "          0.1662]])"
      ]
     },
     "execution_count": 97,
     "metadata": {},
     "output_type": "execute_result"
    }
   ],
   "source": [
    "xMat=mat(abX)\n",
    "yMat=mat(abY).T\n",
    "xMat=regularize(xMat)\n",
    "yMat=yMat-mean(yMat,0)\n",
    "weights=standRegres(xMat,yMat.T)\n",
    "weights.T"
   ]
  },
  {
   "cell_type": "code",
   "execution_count": 98,
   "metadata": {},
   "outputs": [],
   "source": [
    "stageWeights=stageWise(abX,abY,0.005,1000)\n"
   ]
  },
  {
   "cell_type": "code",
   "execution_count": 99,
   "metadata": {},
   "outputs": [
    {
     "data": {
      "image/png": "[encoded data removed]",
      "text/plain": [
       "<Figure size 432x288 with 1 Axes>"
      ]
     },
     "metadata": {
      "needs_background": "light"
     },
     "output_type": "display_data"
    }
   ],
   "source": [
    "fig=plt.figure()\n",
    "ax=fig.add_subplot(111)\n",
    "ax.plot(stageWeights)\n",
    "plt.show()"
   ]
  },
  {
   "cell_type": "code",
   "execution_count": 103,
   "metadata": {},
   "outputs": [
    {
     "name": "stdout",
     "output_type": "stream",
     "text": [
      "[0.5 0.5]\n"
     ]
    }
   ],
   "source": [
    "from sklearn import linear_model\n",
    "clf=linear_model.LinearRegression()\n",
    "clf.fit([[0,0],[1,1],[2,2]],[0,1,2])\n",
    "print(clf.coef_)"
   ]
  },
  {
   "cell_type": "code",
   "execution_count": 104,
   "metadata": {},
   "outputs": [],
   "source": [
    "from sklearn import linear_model\n",
    "clf  =linear_model.LinearRegression()\n",
    "\n",
    "abX,abY=loadDataSet('data8/abalone.txt')\n",
    "trainX=abX[0:99];trainY=abY[0:99]\n",
    "testX=abX[100:199];testY=abY[100:199]\n",
    "\n",
    "clf.fit(trainX,trainY)\n",
    "yHat=clf.predict(testX)"
   ]
  },
  {
   "cell_type": "code",
   "execution_count": 105,
   "metadata": {},
   "outputs": [
    {
     "name": "stdout",
     "output_type": "stream",
     "text": [
      "[ 7.484  10.8339]\n",
      "[7.0, 15.0]\n"
     ]
    },
    {
     "data": {
      "text/plain": [
       "0.530016062244513"
      ]
     },
     "execution_count": 105,
     "metadata": {},
     "output_type": "execute_result"
    }
   ],
   "source": [
    "print(yHat[:2])\n",
    "print(testY[:2])\n",
    "clf.score(testX,testY)"
   ]
  },
  {
   "cell_type": "code",
   "execution_count": 106,
   "metadata": {},
   "outputs": [
    {
     "data": {
      "text/plain": [
       "608.5010219557859"
      ]
     },
     "execution_count": 106,
     "metadata": {},
     "output_type": "execute_result"
    }
   ],
   "source": [
    "rssError(array(yHat),array(testY))"
   ]
  },
  {
   "cell_type": "code",
   "execution_count": 107,
   "metadata": {},
   "outputs": [
    {
     "data": {
      "text/plain": [
       "0.24667813481453638"
      ]
     },
     "execution_count": 107,
     "metadata": {},
     "output_type": "execute_result"
    }
   ],
   "source": [
    "sqrt(rssError(array(yHat),array(testY)))/100"
   ]
  },
  {
   "cell_type": "code",
   "execution_count": 108,
   "metadata": {},
   "outputs": [
    {
     "name": "stdout",
     "output_type": "stream",
     "text": [
      "[0.3455 0.3455]\n",
      "0.1363636363636364\n"
     ]
    }
   ],
   "source": [
    "from sklearn import datasets\n",
    "from sklearn.svm import SVC\n",
    "from sklearn.linear_model import LogisticRegression\n",
    "\n",
    "from sklearn import linear_model\n",
    "clf =linear_model.Ridge(alpha=.5)\n",
    "clf.fit([[0,0],[0,0],[1,1]],[0,.1,1])\n",
    "print(clf.coef_)\n",
    "print(clf.intercept_)"
   ]
  },
  {
   "cell_type": "code",
   "execution_count": 109,
   "metadata": {},
   "outputs": [
    {
     "data": {
      "text/plain": [
       "array([0.8])"
      ]
     },
     "execution_count": 109,
     "metadata": {},
     "output_type": "execute_result"
    }
   ],
   "source": [
    "from sklearn import linear_model\n",
    "clf  =linear_model.Lasso(alpha=0.1)\n",
    "clf.fit([[0,0],[1,1]],[0,1])\n",
    "clf.predict([[1,1]])"
   ]
  },
  {
   "cell_type": "code",
   "execution_count": 110,
   "metadata": {},
   "outputs": [
    {
     "data": {
      "text/plain": [
       "array([0.5])"
      ]
     },
     "execution_count": 110,
     "metadata": {},
     "output_type": "execute_result"
    }
   ],
   "source": [
    "from sklearn import linear_model\n",
    "clf=linear_model.ElasticNet(alpha=1.0)\n",
    "clf.fit([[0,0],[1,1]],[0,1])\n",
    "clf.predict([[1,1]])"
   ]
  },
  {
   "cell_type": "code",
   "execution_count": null,
   "metadata": {},
   "outputs": [],
   "source": []
  },
  {
   "cell_type": "code",
   "execution_count": 113,
   "metadata": {},
   "outputs": [
    {
     "data": {
      "text/plain": [
       "array([0.5815])"
      ]
     },
     "execution_count": 113,
     "metadata": {},
     "output_type": "execute_result"
    }
   ],
   "source": [
    "import numpy as np\n",
    "from sklearn import linear_model\n",
    "n_samples,n_features=10,5\n",
    "np.random.seed(0)\n",
    "y=np.random.randn(n_samples)\n",
    "X=np.random.randn(n_samples,n_features)\n",
    "clf=linear_model.SGDRegressor(tol=1e-3)\n",
    "clf.fit(X,y)\n",
    "clf.predict([[1,1,1,1,1]])"
   ]
  },
  {
   "cell_type": "code",
   "execution_count": 114,
   "metadata": {},
   "outputs": [],
   "source": [
    "from __future__ import division\n",
    "import os,sys\n",
    "from numpy import *\n",
    "from math import *\n",
    "\n",
    "def loadDataSet(fileName):\n",
    "    numFeat=len(open(fileName).readline().split('\\t'))-2\n",
    "    dataArr=[]\n",
    "    lonArr=[]\n",
    "    latArr=[]\n",
    "    fr=open(fileName)\n",
    "    for line in fr.readlines():\n",
    "        lineArr=[]\n",
    "        lineArr.append(1.0)\n",
    "        curLine=line.strip().split('\\t')\n",
    "        for i in range(numFeat):\n",
    "            lineArr.append(float(curLine[i]))\n",
    "        dataArr.append(lineArr)\n",
    "        lonArr.append(float(curLine[-2]))\n",
    "        latArr.append(float(curLine[-1]))\n",
    "    return dataArr,lonArr,latArr"
   ]
  },
  {
   "cell_type": "code",
   "execution_count": 115,
   "metadata": {},
   "outputs": [],
   "source": [
    "def standRegres(xArr,yArr):\n",
    "    xMat=mat(xArr);yMat=mat(yArr).T\n",
    "    xTx=xMat.T*xMat\n",
    "    if linalg.det(xTx)==0.0:\n",
    "        print(\"This matrix is singular,cannot do inverse\")\n",
    "        return \n",
    "    ws=xTx.I*(xMat.T*yMat)\n",
    "    return ws"
   ]
  },
  {
   "cell_type": "code",
   "execution_count": 116,
   "metadata": {},
   "outputs": [],
   "source": [
    "dataArr,lonArr,latArr=loadDataSet('data8/typhoon.dat')"
   ]
  },
  {
   "cell_type": "code",
   "execution_count": 117,
   "metadata": {},
   "outputs": [],
   "source": [
    "def absError(yArr,yHatArr):\n",
    "    return abs(yArr-yHatArr).sum()/len(yArr)"
   ]
  },
  {
   "cell_type": "code",
   "execution_count": 118,
   "metadata": {},
   "outputs": [
    {
     "data": {
      "text/plain": [
       "matrix([[-1.5467e+00],\n",
       "        [-2.2752e+01],\n",
       "        [-2.1843e+00],\n",
       "        [ 1.4225e+00],\n",
       "        [ 2.7127e+01],\n",
       "        [-1.9341e-01],\n",
       "        [ 1.6794e+01],\n",
       "        [-2.5340e+00],\n",
       "        [-5.7848e-01],\n",
       "        [ 2.4632e+03],\n",
       "        [-2.6875e+02],\n",
       "        [ 2.0940e-03],\n",
       "        [-2.4631e+03],\n",
       "        [ 2.2415e+01],\n",
       "        [ 1.1001e-01],\n",
       "        [-1.9900e-01],\n",
       "        [-1.9233e-02]])"
      ]
     },
     "execution_count": 118,
     "metadata": {},
     "output_type": "execute_result"
    }
   ],
   "source": [
    "wsLon=standRegres(dataArr,lonArr)\n",
    "wsLon"
   ]
  },
  {
   "cell_type": "code",
   "execution_count": 119,
   "metadata": {},
   "outputs": [
    {
     "data": {
      "text/plain": [
       "matrix([[ 3.9490e+00],\n",
       "        [-2.7748e+01],\n",
       "        [ 6.5507e+00],\n",
       "        [-1.2969e+01],\n",
       "        [ 2.8823e+01],\n",
       "        [ 6.4507e+00],\n",
       "        [-1.2002e+00],\n",
       "        [-9.1449e-01],\n",
       "        [-1.8375e-01],\n",
       "        [ 2.5566e+03],\n",
       "        [-2.7858e+02],\n",
       "        [-3.9001e-04],\n",
       "        [-2.5543e+03],\n",
       "        [ 2.9041e+01],\n",
       "        [-1.5890e+00],\n",
       "        [ 1.0309e-01],\n",
       "        [ 1.6060e-02]])"
      ]
     },
     "execution_count": 119,
     "metadata": {},
     "output_type": "execute_result"
    }
   ],
   "source": [
    "wsLat=standRegres(dataArr,latArr)\n",
    "wsLat"
   ]
  },
  {
   "cell_type": "code",
   "execution_count": 120,
   "metadata": {},
   "outputs": [],
   "source": [
    "xMat=mat(dataArr)"
   ]
  },
  {
   "cell_type": "code",
   "execution_count": 121,
   "metadata": {},
   "outputs": [],
   "source": [
    "lonHatArr=xMat * wsLon"
   ]
  },
  {
   "cell_type": "code",
   "execution_count": 122,
   "metadata": {},
   "outputs": [],
   "source": [
    "latHatArr=xMat*wsLat"
   ]
  },
  {
   "cell_type": "code",
   "execution_count": 124,
   "metadata": {},
   "outputs": [
    {
     "data": {
      "text/plain": [
       "30.47250456422529"
      ]
     },
     "execution_count": 124,
     "metadata": {},
     "output_type": "execute_result"
    }
   ],
   "source": [
    "absErrorLon=absError(lonArr,lonHatArr.T)\n",
    "absErrorLon"
   ]
  },
  {
   "cell_type": "code",
   "execution_count": 125,
   "metadata": {},
   "outputs": [
    {
     "data": {
      "text/plain": [
       "1.8224046653726158"
      ]
     },
     "execution_count": 125,
     "metadata": {},
     "output_type": "execute_result"
    }
   ],
   "source": [
    "absErrorLat=absError(latArr,latHatArr.T)\n",
    "absErrorLat"
   ]
  },
  {
   "cell_type": "code",
   "execution_count": 126,
   "metadata": {},
   "outputs": [
    {
     "data": {
      "text/plain": [
       "array([[1.    , 0.9452],\n",
       "       [0.9452, 1.    ]])"
      ]
     },
     "execution_count": 126,
     "metadata": {},
     "output_type": "execute_result"
    }
   ],
   "source": [
    "corrcoef(lonHatArr.T,lonArr)"
   ]
  },
  {
   "cell_type": "code",
   "execution_count": 127,
   "metadata": {},
   "outputs": [
    {
     "data": {
      "text/plain": [
       "array([[1.    , 0.9205],\n",
       "       [0.9205, 1.    ]])"
      ]
     },
     "execution_count": 127,
     "metadata": {},
     "output_type": "execute_result"
    }
   ],
   "source": [
    "corrcoef(latHatArr.T,latArr)"
   ]
  },
  {
   "cell_type": "code",
   "execution_count": 128,
   "metadata": {},
   "outputs": [
    {
     "data": {
      "text/plain": [
       "3357.9645304099545"
      ]
     },
     "execution_count": 128,
     "metadata": {},
     "output_type": "execute_result"
    }
   ],
   "source": [
    "110*sqrt(absErrorLon**2+absErrorLat**2)"
   ]
  },
  {
   "cell_type": "code",
   "execution_count": 129,
   "metadata": {},
   "outputs": [],
   "source": [
    "import numpy as np\n",
    "from sklearn import linear_model\n",
    "\n",
    "dataArr,lonArr,latArr=loadDataSet('data8/typhoon.dat')\n",
    "trainX=dataArr[0:299];lonTrainY=lonArr[0:299];latTrainY=latArr[0:299]\n",
    "testX=dataArr[300:];lonTestY=lonArr[300:];latTestY=latArr[300:]\n",
    "\n",
    "from sklearn import linear_model\n",
    "clf=linear_model.LinearRegression()\n",
    "\n",
    "clf.fit(trainX,lonTrainY)\n",
    "lonyHat =clf.predict(testX)\n",
    "\n",
    "clf.fit(trainX,latTrainY)\n",
    "latyHat=clf.predict(testX)"
   ]
  },
  {
   "cell_type": "code",
   "execution_count": 130,
   "metadata": {},
   "outputs": [
    {
     "data": {
      "text/plain": [
       "158.5368046253329"
      ]
     },
     "execution_count": 130,
     "metadata": {},
     "output_type": "execute_result"
    }
   ],
   "source": [
    "absErrorLon=absError(lonTestY,lonyHat)\n",
    "absErrorLat=absError(latTestY,latyHat)\n",
    "\n",
    "110*sqrt(absErrorLon**2+absErrorLat**2)"
   ]
  },
  {
   "cell_type": "code",
   "execution_count": null,
   "metadata": {},
   "outputs": [],
   "source": []
  },
  {
   "cell_type": "code",
   "execution_count": null,
   "metadata": {},
   "outputs": [],
   "source": []
  },
  {
   "cell_type": "code",
   "execution_count": null,
   "metadata": {},
   "outputs": [],
   "source": []
  },
  {
   "cell_type": "code",
   "execution_count": null,
   "metadata": {},
   "outputs": [],
   "source": []
  },
  {
   "cell_type": "code",
   "execution_count": null,
   "metadata": {},
   "outputs": [],
   "source": []
  },
  {
   "cell_type": "code",
   "execution_count": null,
   "metadata": {},
   "outputs": [],
   "source": []
  }
 ],
 "metadata": {
  "kernelspec": {
   "display_name": "Python 3",
   "language": "python",
   "name": "python3"
  },
  "language_info": {
   "codemirror_mode": {
    "name": "ipython",
    "version": 3
   },
   "file_extension": ".py",
   "mimetype": "text/x-python",
   "name": "python",
   "nbconvert_exporter": "python",
   "pygments_lexer": "ipython3",
   "version": "3.5.6"
  }
 },
 "nbformat": 4,
 "nbformat_minor": 2
}
