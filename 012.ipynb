{
 "cells": [
  {
   "cell_type": "code",
   "execution_count": 1,
   "metadata": {},
   "outputs": [],
   "source": [
    "from __future__ import division\n",
    "import os,sys\n",
    "\n",
    "%matplotlib inline\n",
    "import matplotlib.pyplot as plt\n",
    "\n",
    "import pandas as pd\n",
    "import numpy as np\n",
    "\n",
    "br='\\n'"
   ]
  },
  {
   "cell_type": "code",
   "execution_count": 2,
   "metadata": {},
   "outputs": [],
   "source": [
    "import warnings\n",
    "warnings.filterwarnings('ignore')"
   ]
  },
  {
   "cell_type": "code",
   "execution_count": 5,
   "metadata": {},
   "outputs": [],
   "source": [
    "import numpy as np\n",
    "import operator \n",
    "\n",
    "def createTrainDataSet():\n",
    "    traindataset=np.array([[1.0,1.1],[1.0,1.0],[0,0],[0,0.1]])\n",
    "    labels=['A','A','B','B']\n",
    "    return traindataset,labels"
   ]
  },
  {
   "cell_type": "code",
   "execution_count": 6,
   "metadata": {},
   "outputs": [
    {
     "name": "stdout",
     "output_type": "stream",
     "text": [
      "[[1.  1.1]\n",
      " [1.  1. ]\n",
      " [0.  0. ]\n",
      " [0.  0.1]]\n",
      "['A', 'A', 'B', 'B']\n"
     ]
    }
   ],
   "source": [
    "trdataset,labels=createTrainDataSet()\n",
    "print(trdataset)\n",
    "print(labels)"
   ]
  },
  {
   "cell_type": "code",
   "execution_count": 7,
   "metadata": {},
   "outputs": [
    {
     "name": "stdout",
     "output_type": "stream",
     "text": [
      "4\n",
      "2\n"
     ]
    }
   ],
   "source": [
    "print(trdataset.shape[0])\n",
    "print(trdataset.shape[1])\n"
   ]
  },
  {
   "cell_type": "code",
   "execution_count": 10,
   "metadata": {},
   "outputs": [],
   "source": [
    "def kNN(newInput,dataSet,labels,k):\n",
    "    dataSetSize=dataSet.shape[0]\n",
    "    diff=np.tile(newInput,(dataSetSize,1))-dataSet\n",
    "    squaredDiff=diff**2\n",
    "    squaredDist=np.sum(squaredDiff,axis=1)\n",
    "    distances=squaredDist**0.5\n",
    "    \n",
    "    sortedDistIndicies=distances.argsort()\n",
    "    \n",
    "    classCount={}\n",
    "    for i in range(k):\n",
    "        votellabel=labels[sortedDistIndicies[i]]\n",
    "        classCount[votellabel]=classCount.get(votellabel,0)+1\n",
    "        \n",
    "    sortedClassCount=sorted(classCount.items(),key=operator.itemgetter(1),reverse=True)\n",
    "    return sortedClassCount[0][0]"
   ]
  },
  {
   "cell_type": "code",
   "execution_count": 11,
   "metadata": {},
   "outputs": [
    {
     "data": {
      "text/plain": [
       "'B'"
      ]
     },
     "execution_count": 11,
     "metadata": {},
     "output_type": "execute_result"
    }
   ],
   "source": [
    "kNN([0.6,0.3],trdataset,labels,3)"
   ]
  },
  {
   "cell_type": "code",
   "execution_count": 12,
   "metadata": {},
   "outputs": [
    {
     "data": {
      "text/plain": [
       "'A'"
      ]
     },
     "execution_count": 12,
     "metadata": {},
     "output_type": "execute_result"
    }
   ],
   "source": [
    "kNN([1.2,0.8],trdataset,labels,3)"
   ]
  },
  {
   "cell_type": "code",
   "execution_count": 13,
   "metadata": {},
   "outputs": [
    {
     "name": "stdout",
     "output_type": "stream",
     "text": [
      "C:\\Users\\HP\\.ipython\\profile_rdz\n"
     ]
    }
   ],
   "source": [
    "cd ..\n"
   ]
  },
  {
   "cell_type": "code",
   "execution_count": 14,
   "metadata": {},
   "outputs": [
    {
     "data": {
      "text/plain": [
       "'C:\\\\Users\\\\HP\\\\.ipython\\\\profile_rdz'"
      ]
     },
     "execution_count": 14,
     "metadata": {},
     "output_type": "execute_result"
    }
   ],
   "source": [
    "pwd"
   ]
  },
  {
   "cell_type": "code",
   "execution_count": 15,
   "metadata": {},
   "outputs": [
    {
     "name": "stdout",
     "output_type": "stream",
     "text": [
      " 驱动器 C 中的卷是 Windows\n",
      " 卷的序列号是 0809-EA3B\n",
      "\n",
      " C:\\Users\\HP\\.ipython\\profile_rdz 的目录\n",
      "\n",
      "2018/09/17  19:37    <DIR>          .\n",
      "2018/09/17  19:37    <DIR>          ..\n",
      "2018/09/12  21:12    <DIR>          .ipynb_checkpoints\n",
      "2018/09/11  21:32            23,905 ipython_config.py\n",
      "2018/09/11  21:32            18,315 ipython_kernel_config.py\n",
      "2018/09/19  17:12               301 ipython_notebook_config.py\n",
      "2018/09/11  21:32    <DIR>          log\n",
      "2018/09/11  21:32    <DIR>          pid\n",
      "2018/10/23  16:12    <DIR>          rdz\n",
      "2018/09/11  21:32    <DIR>          security\n",
      "2018/09/11  21:32    <DIR>          startup\n",
      "2018/09/17  19:38               107 启动.txt\n",
      "               4 个文件         42,628 字节\n",
      "               8 个目录 34,445,344,768 可用字节\n"
     ]
    }
   ],
   "source": [
    "ls"
   ]
  },
  {
   "cell_type": "code",
   "execution_count": 16,
   "metadata": {},
   "outputs": [
    {
     "name": "stdout",
     "output_type": "stream",
     "text": [
      "C:\\Users\\HP\\.ipython\\profile_rdz\\rdz\n"
     ]
    }
   ],
   "source": [
    "cd rdz\n"
   ]
  },
  {
   "cell_type": "code",
   "execution_count": 17,
   "metadata": {},
   "outputs": [
    {
     "name": "stdout",
     "output_type": "stream",
     "text": [
      " 驱动器 C 中的卷是 Windows\n",
      " 卷的序列号是 0809-EA3B\n",
      "\n",
      " C:\\Users\\HP\\.ipython\\profile_rdz\\rdz 的目录\n",
      "\n",
      "2018/10/23  16:12    <DIR>          .\n",
      "2018/10/23  16:12    <DIR>          ..\n",
      "2018/10/23  15:24    <DIR>          .ipynb_checkpoints\n",
      "2018/09/12  11:35           117,053 001.ipynb\n",
      "2018/09/17  20:49            46,287 002.ipynb\n",
      "2018/09/27  17:29           119,290 003.ipynb\n",
      "2018/09/27  17:10             5,482 003_sub.ipynb\n",
      "2018/10/08  14:31           151,697 004.ipynb\n",
      "2018/10/14  15:35           654,643 005.ipynb\n",
      "2018/10/14  21:26           122,819 006.ipynb\n",
      "2018/10/18  00:48            24,626 007.ipynb\n",
      "2018/10/22  00:04           158,378 008.ipynb\n",
      "2018/10/22  19:22           503,533 009.ipynb\n",
      "2018/10/22  21:47            66,259 010.ipynb\n",
      "2018/10/23  14:44            24,594 011.ipynb\n",
      "2018/10/23  16:12             7,386 012.ipynb\n",
      "2018/09/27  12:07    <DIR>          code3\n",
      "2018/09/12  11:26    <DIR>          data0\n",
      "2018/10/22  20:03    <DIR>          data10\n",
      "2018/10/23  12:25    <DIR>          data11\n",
      "2018/09/19  09:38    <DIR>          data3\n",
      "2018/10/13  20:27    <DIR>          data5\n",
      "2018/10/14  21:06    <DIR>          data6\n",
      "2018/10/15  09:57    <DIR>          data7\n",
      "2018/10/21  12:52    <DIR>          data8\n",
      "2018/10/22  16:50    <DIR>          data9\n",
      "2018/09/12  11:26    <DIR>          image\n",
      "2018/09/27  11:25            11,309 LSTM-Outputs.txt\n",
      "2018/10/18  02:30                72 Untitled.ipynb\n",
      "              15 个文件      2,013,428 字节\n",
      "              14 个目录 34,445,344,768 可用字节\n"
     ]
    }
   ],
   "source": [
    "ls"
   ]
  },
  {
   "cell_type": "code",
   "execution_count": null,
   "metadata": {},
   "outputs": [],
   "source": [
    "#from sklearn.neighbors import KNeighborsClassifier\n",
    "#k=3\n",
    "#kNN=KNeighborsClassifier(n_neighbors=k)\n",
    "#kNN.fit(x_train,y_train)"
   ]
  },
  {
   "cell_type": "code",
   "execution_count": 19,
   "metadata": {},
   "outputs": [],
   "source": [
    "def img2vect(filename):\n",
    "    returnVect=np.zeros((1,1024))\n",
    "    fr=open(filename)\n",
    "    for i in range(32):\n",
    "        lineStr=fr.readline()\n",
    "        for j in range(32):\n",
    "            returnVect[0,32*i+j]=int(lineStr[j])\n",
    "    return returnVect"
   ]
  },
  {
   "cell_type": "code",
   "execution_count": 21,
   "metadata": {},
   "outputs": [
    {
     "name": "stdout",
     "output_type": "stream",
     "text": [
      "[0. 0. 0. 0. 0. 0. 0. 0. 0. 0. 0. 0. 0. 0. 1. 1. 0. 0. 0. 0. 0. 0. 0. 0.\n",
      " 0. 0. 0. 0. 0. 0. 0.] \n",
      "\n",
      "[0. 0. 0. 0. 0. 0. 0. 0. 0. 0. 0. 0. 1. 1. 1. 1. 1. 1. 0. 0. 0. 0. 0. 0.\n",
      " 0. 0. 0. 0. 0. 0. 0.]\n"
     ]
    }
   ],
   "source": [
    "testVect=img2vect('data12/0_5.txt')\n",
    "print(testVect[0,0:31],br)\n",
    "print(testVect[0,32:63])"
   ]
  },
  {
   "cell_type": "code",
   "execution_count": 23,
   "metadata": {},
   "outputs": [
    {
     "name": "stdout",
     "output_type": "stream",
     "text": [
      "训练样本个数:1498\n",
      "测试样本个数:434\n"
     ]
    }
   ],
   "source": [
    "from os import listdir\n",
    "trainingFileList=listdir('data12/trainingDigits/')\n",
    "print(\"训练样本个数:%d\"%(len(trainingFileList)))\n",
    "\n",
    "testFileList=listdir('data12/testDigits/')\n",
    "print(\"测试样本个数:%d\"%(len(testFileList)))"
   ]
  },
  {
   "cell_type": "code",
   "execution_count": 32,
   "metadata": {},
   "outputs": [],
   "source": [
    "def handwritingClassTest():\n",
    "    hwLabels=[]\n",
    "    trainingFileList=listdir('data12/trainingDigits/')\n",
    "    m=len(trainingFileList)\n",
    "    trainingMat=np.zeros((m,1024))\n",
    "    for i in range(m):\n",
    "        fileNameStr=trainingFileList[i]\n",
    "        fileStr=fileNameStr.split('.')[0]\n",
    "        classNumStr=int(fileStr.split('_')[0])\n",
    "        hwLabels.append(classNumStr)\n",
    "        trainingMat[i,:]=img2vect('data12/trainingDigits/%s'%fileNameStr)\n",
    "        \n",
    "    testFileList=listdir('data12/testDigits')\n",
    "    errorCount=0.0\n",
    "    mTest=len(testFileList)\n",
    "    for i in range(mTest):\n",
    "        fileNameStr=testFileList[i]\n",
    "        fileStr=fileNameStr.split('.')[0]\n",
    "        classNumStr=int(fileStr.split('_')[0])\n",
    "        vectorUnderTest=img2vect('data12/testDigits/%s'%fileNameStr)\n",
    "        classifierResult=kNN(vectorUnderTest,trainingMat,hwLabels,3)\n",
    "        if(classifierResult!=classNumStr): errorCount+=1.0\n",
    "    print(\"测试样本个数为：%d\"%mTest)\n",
    "    print(\"测试错误个数为：%d\"%errorCount)\n",
    "    print(\"测试错误率为：%2.2f%%\"%(errorCount/float(mTest)*100.0))\n",
    "    print(\"测试准确率为：%2.2f%%\"%((1-errorCount/float(mTest))*100))"
   ]
  },
  {
   "cell_type": "code",
   "execution_count": 33,
   "metadata": {},
   "outputs": [
    {
     "name": "stdout",
     "output_type": "stream",
     "text": [
      "测试样本个数为：434\n",
      "测试错误个数为：16\n",
      "测试错误率为：3.69%\n",
      "测试准确率为：96.31%\n"
     ]
    }
   ],
   "source": [
    "handwritingClassTest()"
   ]
  },
  {
   "cell_type": "code",
   "execution_count": 34,
   "metadata": {},
   "outputs": [],
   "source": [
    "import numpy as np\n",
    "from numpy import *\n",
    "from os import listdir\n",
    "import operator"
   ]
  },
  {
   "cell_type": "code",
   "execution_count": 35,
   "metadata": {},
   "outputs": [],
   "source": [
    "def img2vect(filename):\n",
    "    returnVect=zeros((1,1024))\n",
    "    fr=open(filename)\n",
    "    for i in range(32):\n",
    "        lineStr=fr.readline()\n",
    "        for j in range(32):\n",
    "            returnVect[0,32*i+j]=int(lineStr[j])\n",
    "    return returnVect"
   ]
  },
  {
   "cell_type": "code",
   "execution_count": 41,
   "metadata": {},
   "outputs": [],
   "source": [
    "def load_trainingData():\n",
    "    hwLabels=[]\n",
    "    trainingFileList=listdir('data12/trainingDigits')\n",
    "    m=len(trainingFileList)\n",
    "    trainingMat=zeros((m,1024))\n",
    "    for i in range(m):\n",
    "        fileNameStr=trainingFileList[i]\n",
    "        fileStr=fileNameStr.split('.')[0]\n",
    "        classNumStr=int(fileStr.split('_')[0])\n",
    "        hwLabels.append(classNumStr)\n",
    "        trainingMat[i,:]=img2vect('data12/trainingDigits/%s'%fileNameStr)\n",
    "    return trainingMat,hwLabels"
   ]
  },
  {
   "cell_type": "code",
   "execution_count": 43,
   "metadata": {},
   "outputs": [
    {
     "data": {
      "text/plain": [
       "(1498, 1498)"
      ]
     },
     "execution_count": 43,
     "metadata": {},
     "output_type": "execute_result"
    }
   ],
   "source": [
    "trainingMat,hwLabels=load_trainingData()\n",
    "len(trainingMat),len(hwLabels)"
   ]
  },
  {
   "cell_type": "code",
   "execution_count": 44,
   "metadata": {},
   "outputs": [],
   "source": [
    "def load_testData():\n",
    "    testFileList=listdir('data12/testDigits')\n",
    "    goldLabels=[]\n",
    "    mTest=len(testFileList)\n",
    "    testMat=zeros((mTest,1024))\n",
    "    for i in range(mTest):\n",
    "        fileNameStr=testFileList[i]\n",
    "        fileStr=fileNameStr.split('.')[0]\n",
    "        classNumStr=int(fileStr.split('_')[0])\n",
    "        goldLabels.append(classNumStr)\n",
    "        testMat[i,:]=img2vect('data12/testDigits/%s'%fileNameStr)\n",
    "    return testMat,goldLabels"
   ]
  },
  {
   "cell_type": "code",
   "execution_count": 45,
   "metadata": {},
   "outputs": [
    {
     "data": {
      "text/plain": [
       "(434, 434)"
      ]
     },
     "execution_count": 45,
     "metadata": {},
     "output_type": "execute_result"
    }
   ],
   "source": [
    "testMat,goldLabels=load_testData()\n",
    "len(testMat),len(goldLabels)"
   ]
  },
  {
   "cell_type": "code",
   "execution_count": 47,
   "metadata": {},
   "outputs": [],
   "source": [
    "from sklearn.neighbors import KNeighborsClassifier\n",
    "from sklearn.svm import SVC\n",
    "from sklearn.tree import DecisionTreeClassifier\n",
    "\n",
    "from sklearn.naive_bayes import GaussianNB\n",
    "from sklearn.naive_bayes import MultinomialNB\n",
    "from sklearn.naive_bayes import BernoulliNB\n"
   ]
  },
  {
   "cell_type": "code",
   "execution_count": 48,
   "metadata": {},
   "outputs": [],
   "source": [
    "def handwritingClassTest():\n",
    "    trainingMat,hwLabels=load_trainingData()\n",
    "    testMat,goldLabels=load_testData()\n",
    "    mTest=len(testMat)\n",
    "    \n",
    "    ensemble=['kNN','SVC','DT','GaussianNB','MultinomialNB','BernoulliNB']\n",
    "    for a in ensemble:\n",
    "        classifierResult=[]\n",
    "        print(a+':')\n",
    "        if a=='kNN':\n",
    "            clf=KNeighborsClassifier(algorithm='kd_tree',n_neighbors=3)\n",
    "        if a=='SVC':\n",
    "            clf=SVC(C=1.0,kernel='linear')\n",
    "        if a=='DT':\n",
    "            clf=DecisionTreeClassifier(criterion='entropy',random_state=0)\n",
    "        if a=='GaussianNB':\n",
    "            clf=GaussianNB()\n",
    "        if a=='MultinomialNB':\n",
    "            clf=MultinomialNB()\n",
    "        if a=='BernoulliNB':\n",
    "            clf=BernoulliNB()\n",
    "        \n",
    "        clf.fit(trainingMat,hwLabels)\n",
    "        classifierResult=clf.predict(testMat)\n",
    "        \n",
    "        errorCount=0.0\n",
    "        for i in range(mTest):\n",
    "            if classifierResult[i]!=goldLabels[i]:\n",
    "                errorCount+=1.0\n",
    "        print('\\t 测试样本个数为:%d'%mTest)\n",
    "        print('\\t 预测错误个数为:%d'%errorCount)\n",
    "        print('\\t 预测错误率为:%2.2f%%'%(errorCount/float(mTest)*100))\n",
    "        print('\\t 预测准确率为:%2.2f%%'%((1-errorCount/float(mTest))*100))\n",
    "        "
   ]
  },
  {
   "cell_type": "code",
   "execution_count": 49,
   "metadata": {},
   "outputs": [
    {
     "name": "stdout",
     "output_type": "stream",
     "text": [
      "kNN:\n",
      "\t 测试样本个数为:434\n",
      "\t 预测错误个数为:19\n",
      "\t 预测错误率为:4.38%\n",
      "\t 预测准确率为:95.62%\n",
      "SVC:\n",
      "\t 测试样本个数为:434\n",
      "\t 预测错误个数为:18\n",
      "\t 预测错误率为:4.15%\n",
      "\t 预测准确率为:95.85%\n",
      "DT:\n",
      "\t 测试样本个数为:434\n",
      "\t 预测错误个数为:76\n",
      "\t 预测错误率为:17.51%\n",
      "\t 预测准确率为:82.49%\n",
      "GaussianNB:\n",
      "\t 测试样本个数为:434\n",
      "\t 预测错误个数为:120\n",
      "\t 预测错误率为:27.65%\n",
      "\t 预测准确率为:72.35%\n",
      "MultinomialNB:\n",
      "\t 测试样本个数为:434\n",
      "\t 预测错误个数为:34\n",
      "\t 预测错误率为:7.83%\n",
      "\t 预测准确率为:92.17%\n",
      "BernoulliNB:\n",
      "\t 测试样本个数为:434\n",
      "\t 预测错误个数为:29\n",
      "\t 预测错误率为:6.68%\n",
      "\t 预测准确率为:93.32%\n"
     ]
    }
   ],
   "source": [
    "handwritingClassTest()"
   ]
  },
  {
   "cell_type": "code",
   "execution_count": null,
   "metadata": {},
   "outputs": [],
   "source": []
  },
  {
   "cell_type": "code",
   "execution_count": null,
   "metadata": {},
   "outputs": [],
   "source": []
  },
  {
   "cell_type": "code",
   "execution_count": null,
   "metadata": {},
   "outputs": [],
   "source": []
  },
  {
   "cell_type": "code",
   "execution_count": null,
   "metadata": {},
   "outputs": [],
   "source": []
  },
  {
   "cell_type": "code",
   "execution_count": null,
   "metadata": {},
   "outputs": [],
   "source": []
  },
  {
   "cell_type": "code",
   "execution_count": null,
   "metadata": {},
   "outputs": [],
   "source": []
  },
  {
   "cell_type": "code",
   "execution_count": null,
   "metadata": {},
   "outputs": [],
   "source": []
  },
  {
   "cell_type": "code",
   "execution_count": null,
   "metadata": {},
   "outputs": [],
   "source": []
  },
  {
   "cell_type": "code",
   "execution_count": null,
   "metadata": {},
   "outputs": [],
   "source": []
  },
  {
   "cell_type": "code",
   "execution_count": null,
   "metadata": {},
   "outputs": [],
   "source": []
  },
  {
   "cell_type": "code",
   "execution_count": null,
   "metadata": {},
   "outputs": [],
   "source": []
  },
  {
   "cell_type": "code",
   "execution_count": null,
   "metadata": {},
   "outputs": [],
   "source": []
  },
  {
   "cell_type": "code",
   "execution_count": null,
   "metadata": {},
   "outputs": [],
   "source": []
  },
  {
   "cell_type": "code",
   "execution_count": null,
   "metadata": {},
   "outputs": [],
   "source": []
  }
 ],
 "metadata": {
  "kernelspec": {
   "display_name": "Python 3",
   "language": "python",
   "name": "python3"
  },
  "language_info": {
   "codemirror_mode": {
    "name": "ipython",
    "version": 3
   },
   "file_extension": ".py",
   "mimetype": "text/x-python",
   "name": "python",
   "nbconvert_exporter": "python",
   "pygments_lexer": "ipython3",
   "version": "3.5.6"
  }
 },
 "nbformat": 4,
 "nbformat_minor": 2
}
